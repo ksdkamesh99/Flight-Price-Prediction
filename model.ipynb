{
  "nbformat": 4,
  "nbformat_minor": 0,
  "metadata": {
    "colab": {
      "name": "model.ipynb",
      "provenance": [],
      "collapsed_sections": []
    },
    "kernelspec": {
      "name": "python3",
      "display_name": "Python 3"
    },
    "accelerator": "GPU"
  },
  "cells": [
    {
      "cell_type": "code",
      "metadata": {
        "id": "eStc6mKXx4Qf",
        "colab_type": "code",
        "colab": {
          "base_uri": "https://localhost:8080/",
          "height": 121
        },
        "outputId": "5e648719-7c46-4ad6-8926-6639d75d33f6"
      },
      "source": [
        "from google.colab import drive\n",
        "drive.mount('/content/drive')"
      ],
      "execution_count": 1,
      "outputs": [
        {
          "output_type": "stream",
          "text": [
            "Go to this URL in a browser: https://accounts.google.com/o/oauth2/auth?client_id=947318989803-6bn6qk8qdgf4n4g3pfee6491hc0brc4i.apps.googleusercontent.com&redirect_uri=urn%3aietf%3awg%3aoauth%3a2.0%3aoob&response_type=code&scope=email%20https%3a%2f%2fwww.googleapis.com%2fauth%2fdocs.test%20https%3a%2f%2fwww.googleapis.com%2fauth%2fdrive%20https%3a%2f%2fwww.googleapis.com%2fauth%2fdrive.photos.readonly%20https%3a%2f%2fwww.googleapis.com%2fauth%2fpeopleapi.readonly\n",
            "\n",
            "Enter your authorization code:\n",
            "··········\n",
            "Mounted at /content/drive\n"
          ],
          "name": "stdout"
        }
      ]
    },
    {
      "cell_type": "code",
      "metadata": {
        "id": "bHUclirvx7FS",
        "colab_type": "code",
        "colab": {
          "base_uri": "https://localhost:8080/",
          "height": 34
        },
        "outputId": "576235dd-9cd0-47c9-b102-9394157b0f7b"
      },
      "source": [
        "cd /content/drive/My Drive/Flight Price Prediction"
      ],
      "execution_count": 2,
      "outputs": [
        {
          "output_type": "stream",
          "text": [
            "/content/drive/My Drive/Flight Price Prediction\n"
          ],
          "name": "stdout"
        }
      ]
    },
    {
      "cell_type": "code",
      "metadata": {
        "id": "pJsBU2JNysV1",
        "colab_type": "code",
        "colab": {
          "base_uri": "https://localhost:8080/",
          "height": 34
        },
        "outputId": "c9ee448d-73ad-422d-e655-0cb4116d889f"
      },
      "source": [
        "ls"
      ],
      "execution_count": 4,
      "outputs": [
        {
          "output_type": "stream",
          "text": [
            "Data_Train.xlsx  Sample_submission.xlsx  Test_set.xlsx  Untitled0.ipynb\n"
          ],
          "name": "stdout"
        }
      ]
    },
    {
      "cell_type": "code",
      "metadata": {
        "id": "eLbTJ_F1ytBt",
        "colab_type": "code",
        "colab": {
          "base_uri": "https://localhost:8080/",
          "height": 70
        },
        "outputId": "cc9b352b-f960-4498-c2a2-afb9779d34b2"
      },
      "source": [
        "import numpy as np\n",
        "import pandas as pd\n",
        "import matplotlib.pyplot as plt\n",
        "import seaborn as sns"
      ],
      "execution_count": 5,
      "outputs": [
        {
          "output_type": "stream",
          "text": [
            "/usr/local/lib/python3.6/dist-packages/statsmodels/tools/_testing.py:19: FutureWarning: pandas.util.testing is deprecated. Use the functions in the public API at pandas.testing instead.\n",
            "  import pandas.util.testing as tm\n"
          ],
          "name": "stderr"
        }
      ]
    },
    {
      "cell_type": "code",
      "metadata": {
        "id": "ucPK-5dQy7VV",
        "colab_type": "code",
        "colab": {}
      },
      "source": [
        "train_data=pd.read_excel('/content/drive/My Drive/Flight Price Prediction/Data_Train.xlsx')"
      ],
      "execution_count": 6,
      "outputs": []
    },
    {
      "cell_type": "code",
      "metadata": {
        "id": "5NbNDoS0zNgH",
        "colab_type": "code",
        "colab": {
          "base_uri": "https://localhost:8080/",
          "height": 229
        },
        "outputId": "d698390a-1c9a-4f81-fed4-d0c3ff65da35"
      },
      "source": [
        "train_data.head()"
      ],
      "execution_count": 7,
      "outputs": [
        {
          "output_type": "execute_result",
          "data": {
            "text/html": [
              "<div>\n",
              "<style scoped>\n",
              "    .dataframe tbody tr th:only-of-type {\n",
              "        vertical-align: middle;\n",
              "    }\n",
              "\n",
              "    .dataframe tbody tr th {\n",
              "        vertical-align: top;\n",
              "    }\n",
              "\n",
              "    .dataframe thead th {\n",
              "        text-align: right;\n",
              "    }\n",
              "</style>\n",
              "<table border=\"1\" class=\"dataframe\">\n",
              "  <thead>\n",
              "    <tr style=\"text-align: right;\">\n",
              "      <th></th>\n",
              "      <th>Airline</th>\n",
              "      <th>Date_of_Journey</th>\n",
              "      <th>Source</th>\n",
              "      <th>Destination</th>\n",
              "      <th>Route</th>\n",
              "      <th>Dep_Time</th>\n",
              "      <th>Arrival_Time</th>\n",
              "      <th>Duration</th>\n",
              "      <th>Total_Stops</th>\n",
              "      <th>Additional_Info</th>\n",
              "      <th>Price</th>\n",
              "    </tr>\n",
              "  </thead>\n",
              "  <tbody>\n",
              "    <tr>\n",
              "      <th>0</th>\n",
              "      <td>IndiGo</td>\n",
              "      <td>24/03/2019</td>\n",
              "      <td>Banglore</td>\n",
              "      <td>New Delhi</td>\n",
              "      <td>BLR → DEL</td>\n",
              "      <td>22:20</td>\n",
              "      <td>01:10 22 Mar</td>\n",
              "      <td>2h 50m</td>\n",
              "      <td>non-stop</td>\n",
              "      <td>No info</td>\n",
              "      <td>3897</td>\n",
              "    </tr>\n",
              "    <tr>\n",
              "      <th>1</th>\n",
              "      <td>Air India</td>\n",
              "      <td>1/05/2019</td>\n",
              "      <td>Kolkata</td>\n",
              "      <td>Banglore</td>\n",
              "      <td>CCU → IXR → BBI → BLR</td>\n",
              "      <td>05:50</td>\n",
              "      <td>13:15</td>\n",
              "      <td>7h 25m</td>\n",
              "      <td>2 stops</td>\n",
              "      <td>No info</td>\n",
              "      <td>7662</td>\n",
              "    </tr>\n",
              "    <tr>\n",
              "      <th>2</th>\n",
              "      <td>Jet Airways</td>\n",
              "      <td>9/06/2019</td>\n",
              "      <td>Delhi</td>\n",
              "      <td>Cochin</td>\n",
              "      <td>DEL → LKO → BOM → COK</td>\n",
              "      <td>09:25</td>\n",
              "      <td>04:25 10 Jun</td>\n",
              "      <td>19h</td>\n",
              "      <td>2 stops</td>\n",
              "      <td>No info</td>\n",
              "      <td>13882</td>\n",
              "    </tr>\n",
              "    <tr>\n",
              "      <th>3</th>\n",
              "      <td>IndiGo</td>\n",
              "      <td>12/05/2019</td>\n",
              "      <td>Kolkata</td>\n",
              "      <td>Banglore</td>\n",
              "      <td>CCU → NAG → BLR</td>\n",
              "      <td>18:05</td>\n",
              "      <td>23:30</td>\n",
              "      <td>5h 25m</td>\n",
              "      <td>1 stop</td>\n",
              "      <td>No info</td>\n",
              "      <td>6218</td>\n",
              "    </tr>\n",
              "    <tr>\n",
              "      <th>4</th>\n",
              "      <td>IndiGo</td>\n",
              "      <td>01/03/2019</td>\n",
              "      <td>Banglore</td>\n",
              "      <td>New Delhi</td>\n",
              "      <td>BLR → NAG → DEL</td>\n",
              "      <td>16:50</td>\n",
              "      <td>21:35</td>\n",
              "      <td>4h 45m</td>\n",
              "      <td>1 stop</td>\n",
              "      <td>No info</td>\n",
              "      <td>13302</td>\n",
              "    </tr>\n",
              "  </tbody>\n",
              "</table>\n",
              "</div>"
            ],
            "text/plain": [
              "       Airline Date_of_Journey    Source  ... Total_Stops Additional_Info  Price\n",
              "0       IndiGo      24/03/2019  Banglore  ...    non-stop         No info   3897\n",
              "1    Air India       1/05/2019   Kolkata  ...     2 stops         No info   7662\n",
              "2  Jet Airways       9/06/2019     Delhi  ...     2 stops         No info  13882\n",
              "3       IndiGo      12/05/2019   Kolkata  ...      1 stop         No info   6218\n",
              "4       IndiGo      01/03/2019  Banglore  ...      1 stop         No info  13302\n",
              "\n",
              "[5 rows x 11 columns]"
            ]
          },
          "metadata": {
            "tags": []
          },
          "execution_count": 7
        }
      ]
    },
    {
      "cell_type": "code",
      "metadata": {
        "id": "7XjWJzljzQVO",
        "colab_type": "code",
        "colab": {
          "base_uri": "https://localhost:8080/",
          "height": 218
        },
        "outputId": "65cc2366-5986-4059-c358-29d500074c24"
      },
      "source": [
        "train_data.isnull().any()"
      ],
      "execution_count": 8,
      "outputs": [
        {
          "output_type": "execute_result",
          "data": {
            "text/plain": [
              "Airline            False\n",
              "Date_of_Journey    False\n",
              "Source             False\n",
              "Destination        False\n",
              "Route               True\n",
              "Dep_Time           False\n",
              "Arrival_Time       False\n",
              "Duration           False\n",
              "Total_Stops         True\n",
              "Additional_Info    False\n",
              "Price              False\n",
              "dtype: bool"
            ]
          },
          "metadata": {
            "tags": []
          },
          "execution_count": 8
        }
      ]
    },
    {
      "cell_type": "code",
      "metadata": {
        "id": "R8dkW_AXzakM",
        "colab_type": "code",
        "colab": {}
      },
      "source": [
        "train_data.dropna(inplace=True)"
      ],
      "execution_count": 9,
      "outputs": []
    },
    {
      "cell_type": "code",
      "metadata": {
        "id": "P55kC7CNzhVU",
        "colab_type": "code",
        "colab": {
          "base_uri": "https://localhost:8080/",
          "height": 229
        },
        "outputId": "38476414-c1cc-4a1a-889b-c81bc0b59219"
      },
      "source": [
        "train_data.head()"
      ],
      "execution_count": 10,
      "outputs": [
        {
          "output_type": "execute_result",
          "data": {
            "text/html": [
              "<div>\n",
              "<style scoped>\n",
              "    .dataframe tbody tr th:only-of-type {\n",
              "        vertical-align: middle;\n",
              "    }\n",
              "\n",
              "    .dataframe tbody tr th {\n",
              "        vertical-align: top;\n",
              "    }\n",
              "\n",
              "    .dataframe thead th {\n",
              "        text-align: right;\n",
              "    }\n",
              "</style>\n",
              "<table border=\"1\" class=\"dataframe\">\n",
              "  <thead>\n",
              "    <tr style=\"text-align: right;\">\n",
              "      <th></th>\n",
              "      <th>Airline</th>\n",
              "      <th>Date_of_Journey</th>\n",
              "      <th>Source</th>\n",
              "      <th>Destination</th>\n",
              "      <th>Route</th>\n",
              "      <th>Dep_Time</th>\n",
              "      <th>Arrival_Time</th>\n",
              "      <th>Duration</th>\n",
              "      <th>Total_Stops</th>\n",
              "      <th>Additional_Info</th>\n",
              "      <th>Price</th>\n",
              "    </tr>\n",
              "  </thead>\n",
              "  <tbody>\n",
              "    <tr>\n",
              "      <th>0</th>\n",
              "      <td>IndiGo</td>\n",
              "      <td>24/03/2019</td>\n",
              "      <td>Banglore</td>\n",
              "      <td>New Delhi</td>\n",
              "      <td>BLR → DEL</td>\n",
              "      <td>22:20</td>\n",
              "      <td>01:10 22 Mar</td>\n",
              "      <td>2h 50m</td>\n",
              "      <td>non-stop</td>\n",
              "      <td>No info</td>\n",
              "      <td>3897</td>\n",
              "    </tr>\n",
              "    <tr>\n",
              "      <th>1</th>\n",
              "      <td>Air India</td>\n",
              "      <td>1/05/2019</td>\n",
              "      <td>Kolkata</td>\n",
              "      <td>Banglore</td>\n",
              "      <td>CCU → IXR → BBI → BLR</td>\n",
              "      <td>05:50</td>\n",
              "      <td>13:15</td>\n",
              "      <td>7h 25m</td>\n",
              "      <td>2 stops</td>\n",
              "      <td>No info</td>\n",
              "      <td>7662</td>\n",
              "    </tr>\n",
              "    <tr>\n",
              "      <th>2</th>\n",
              "      <td>Jet Airways</td>\n",
              "      <td>9/06/2019</td>\n",
              "      <td>Delhi</td>\n",
              "      <td>Cochin</td>\n",
              "      <td>DEL → LKO → BOM → COK</td>\n",
              "      <td>09:25</td>\n",
              "      <td>04:25 10 Jun</td>\n",
              "      <td>19h</td>\n",
              "      <td>2 stops</td>\n",
              "      <td>No info</td>\n",
              "      <td>13882</td>\n",
              "    </tr>\n",
              "    <tr>\n",
              "      <th>3</th>\n",
              "      <td>IndiGo</td>\n",
              "      <td>12/05/2019</td>\n",
              "      <td>Kolkata</td>\n",
              "      <td>Banglore</td>\n",
              "      <td>CCU → NAG → BLR</td>\n",
              "      <td>18:05</td>\n",
              "      <td>23:30</td>\n",
              "      <td>5h 25m</td>\n",
              "      <td>1 stop</td>\n",
              "      <td>No info</td>\n",
              "      <td>6218</td>\n",
              "    </tr>\n",
              "    <tr>\n",
              "      <th>4</th>\n",
              "      <td>IndiGo</td>\n",
              "      <td>01/03/2019</td>\n",
              "      <td>Banglore</td>\n",
              "      <td>New Delhi</td>\n",
              "      <td>BLR → NAG → DEL</td>\n",
              "      <td>16:50</td>\n",
              "      <td>21:35</td>\n",
              "      <td>4h 45m</td>\n",
              "      <td>1 stop</td>\n",
              "      <td>No info</td>\n",
              "      <td>13302</td>\n",
              "    </tr>\n",
              "  </tbody>\n",
              "</table>\n",
              "</div>"
            ],
            "text/plain": [
              "       Airline Date_of_Journey    Source  ... Total_Stops Additional_Info  Price\n",
              "0       IndiGo      24/03/2019  Banglore  ...    non-stop         No info   3897\n",
              "1    Air India       1/05/2019   Kolkata  ...     2 stops         No info   7662\n",
              "2  Jet Airways       9/06/2019     Delhi  ...     2 stops         No info  13882\n",
              "3       IndiGo      12/05/2019   Kolkata  ...      1 stop         No info   6218\n",
              "4       IndiGo      01/03/2019  Banglore  ...      1 stop         No info  13302\n",
              "\n",
              "[5 rows x 11 columns]"
            ]
          },
          "metadata": {
            "tags": []
          },
          "execution_count": 10
        }
      ]
    },
    {
      "cell_type": "code",
      "metadata": {
        "id": "seLrJBlFzjip",
        "colab_type": "code",
        "colab": {
          "base_uri": "https://localhost:8080/",
          "height": 34
        },
        "outputId": "8605bba3-802f-4a62-e856-a80ce8d05b96"
      },
      "source": [
        "train_data.shape"
      ],
      "execution_count": 11,
      "outputs": [
        {
          "output_type": "execute_result",
          "data": {
            "text/plain": [
              "(10682, 11)"
            ]
          },
          "metadata": {
            "tags": []
          },
          "execution_count": 11
        }
      ]
    },
    {
      "cell_type": "code",
      "metadata": {
        "id": "ASMG9J1Hznj4",
        "colab_type": "code",
        "colab": {}
      },
      "source": [
        "train_data.drop('Additional_Info',inplace=True,axis=1)"
      ],
      "execution_count": 15,
      "outputs": []
    },
    {
      "cell_type": "code",
      "metadata": {
        "id": "7DVT6aDrz_Cp",
        "colab_type": "code",
        "colab": {
          "base_uri": "https://localhost:8080/",
          "height": 195
        },
        "outputId": "bb9017fd-73f3-488b-d495-0f14232cef11"
      },
      "source": [
        "train_data.head()"
      ],
      "execution_count": 16,
      "outputs": [
        {
          "output_type": "execute_result",
          "data": {
            "text/html": [
              "<div>\n",
              "<style scoped>\n",
              "    .dataframe tbody tr th:only-of-type {\n",
              "        vertical-align: middle;\n",
              "    }\n",
              "\n",
              "    .dataframe tbody tr th {\n",
              "        vertical-align: top;\n",
              "    }\n",
              "\n",
              "    .dataframe thead th {\n",
              "        text-align: right;\n",
              "    }\n",
              "</style>\n",
              "<table border=\"1\" class=\"dataframe\">\n",
              "  <thead>\n",
              "    <tr style=\"text-align: right;\">\n",
              "      <th></th>\n",
              "      <th>Airline</th>\n",
              "      <th>Date_of_Journey</th>\n",
              "      <th>Source</th>\n",
              "      <th>Destination</th>\n",
              "      <th>Route</th>\n",
              "      <th>Dep_Time</th>\n",
              "      <th>Arrival_Time</th>\n",
              "      <th>Duration</th>\n",
              "      <th>Total_Stops</th>\n",
              "      <th>Price</th>\n",
              "    </tr>\n",
              "  </thead>\n",
              "  <tbody>\n",
              "    <tr>\n",
              "      <th>0</th>\n",
              "      <td>IndiGo</td>\n",
              "      <td>24/03/2019</td>\n",
              "      <td>Banglore</td>\n",
              "      <td>New Delhi</td>\n",
              "      <td>BLR → DEL</td>\n",
              "      <td>22:20</td>\n",
              "      <td>01:10 22 Mar</td>\n",
              "      <td>2h 50m</td>\n",
              "      <td>non-stop</td>\n",
              "      <td>3897</td>\n",
              "    </tr>\n",
              "    <tr>\n",
              "      <th>1</th>\n",
              "      <td>Air India</td>\n",
              "      <td>1/05/2019</td>\n",
              "      <td>Kolkata</td>\n",
              "      <td>Banglore</td>\n",
              "      <td>CCU → IXR → BBI → BLR</td>\n",
              "      <td>05:50</td>\n",
              "      <td>13:15</td>\n",
              "      <td>7h 25m</td>\n",
              "      <td>2 stops</td>\n",
              "      <td>7662</td>\n",
              "    </tr>\n",
              "    <tr>\n",
              "      <th>2</th>\n",
              "      <td>Jet Airways</td>\n",
              "      <td>9/06/2019</td>\n",
              "      <td>Delhi</td>\n",
              "      <td>Cochin</td>\n",
              "      <td>DEL → LKO → BOM → COK</td>\n",
              "      <td>09:25</td>\n",
              "      <td>04:25 10 Jun</td>\n",
              "      <td>19h</td>\n",
              "      <td>2 stops</td>\n",
              "      <td>13882</td>\n",
              "    </tr>\n",
              "    <tr>\n",
              "      <th>3</th>\n",
              "      <td>IndiGo</td>\n",
              "      <td>12/05/2019</td>\n",
              "      <td>Kolkata</td>\n",
              "      <td>Banglore</td>\n",
              "      <td>CCU → NAG → BLR</td>\n",
              "      <td>18:05</td>\n",
              "      <td>23:30</td>\n",
              "      <td>5h 25m</td>\n",
              "      <td>1 stop</td>\n",
              "      <td>6218</td>\n",
              "    </tr>\n",
              "    <tr>\n",
              "      <th>4</th>\n",
              "      <td>IndiGo</td>\n",
              "      <td>01/03/2019</td>\n",
              "      <td>Banglore</td>\n",
              "      <td>New Delhi</td>\n",
              "      <td>BLR → NAG → DEL</td>\n",
              "      <td>16:50</td>\n",
              "      <td>21:35</td>\n",
              "      <td>4h 45m</td>\n",
              "      <td>1 stop</td>\n",
              "      <td>13302</td>\n",
              "    </tr>\n",
              "  </tbody>\n",
              "</table>\n",
              "</div>"
            ],
            "text/plain": [
              "       Airline Date_of_Journey    Source  ... Duration Total_Stops  Price\n",
              "0       IndiGo      24/03/2019  Banglore  ...   2h 50m    non-stop   3897\n",
              "1    Air India       1/05/2019   Kolkata  ...   7h 25m     2 stops   7662\n",
              "2  Jet Airways       9/06/2019     Delhi  ...      19h     2 stops  13882\n",
              "3       IndiGo      12/05/2019   Kolkata  ...   5h 25m      1 stop   6218\n",
              "4       IndiGo      01/03/2019  Banglore  ...   4h 45m      1 stop  13302\n",
              "\n",
              "[5 rows x 10 columns]"
            ]
          },
          "metadata": {
            "tags": []
          },
          "execution_count": 16
        }
      ]
    },
    {
      "cell_type": "code",
      "metadata": {
        "id": "ofezAqMb0TH0",
        "colab_type": "code",
        "colab": {
          "base_uri": "https://localhost:8080/",
          "height": 218
        },
        "outputId": "b63ef019-6ec7-4159-fcef-4f3177cac64c"
      },
      "source": [
        "train_data['Route'].value_counts()"
      ],
      "execution_count": 19,
      "outputs": [
        {
          "output_type": "execute_result",
          "data": {
            "text/plain": [
              "DEL → BOM → COK                2376\n",
              "BLR → DEL                      1552\n",
              "CCU → BOM → BLR                 979\n",
              "CCU → BLR                       724\n",
              "BOM → HYD                       621\n",
              "                               ... \n",
              "BOM → BBI → HYD                   1\n",
              "BOM → CCU → HYD                   1\n",
              "CCU → IXA → BLR                   1\n",
              "BOM → JDH → JAI → DEL → HYD       1\n",
              "BLR → HBX → BOM → AMD → DEL       1\n",
              "Name: Route, Length: 128, dtype: int64"
            ]
          },
          "metadata": {
            "tags": []
          },
          "execution_count": 19
        }
      ]
    },
    {
      "cell_type": "code",
      "metadata": {
        "id": "hYuF6GVt0XmI",
        "colab_type": "code",
        "colab": {}
      },
      "source": [
        "train_data.drop('Route',inplace=True,axis=1)"
      ],
      "execution_count": 21,
      "outputs": []
    },
    {
      "cell_type": "code",
      "metadata": {
        "id": "gGEVR4fc0-yJ",
        "colab_type": "code",
        "colab": {
          "base_uri": "https://localhost:8080/",
          "height": 402
        },
        "outputId": "cee16835-cb54-457e-b75d-31a595c7af62"
      },
      "source": [
        "train_data"
      ],
      "execution_count": 22,
      "outputs": [
        {
          "output_type": "execute_result",
          "data": {
            "text/html": [
              "<div>\n",
              "<style scoped>\n",
              "    .dataframe tbody tr th:only-of-type {\n",
              "        vertical-align: middle;\n",
              "    }\n",
              "\n",
              "    .dataframe tbody tr th {\n",
              "        vertical-align: top;\n",
              "    }\n",
              "\n",
              "    .dataframe thead th {\n",
              "        text-align: right;\n",
              "    }\n",
              "</style>\n",
              "<table border=\"1\" class=\"dataframe\">\n",
              "  <thead>\n",
              "    <tr style=\"text-align: right;\">\n",
              "      <th></th>\n",
              "      <th>Airline</th>\n",
              "      <th>Date_of_Journey</th>\n",
              "      <th>Source</th>\n",
              "      <th>Destination</th>\n",
              "      <th>Dep_Time</th>\n",
              "      <th>Arrival_Time</th>\n",
              "      <th>Duration</th>\n",
              "      <th>Total_Stops</th>\n",
              "      <th>Price</th>\n",
              "    </tr>\n",
              "  </thead>\n",
              "  <tbody>\n",
              "    <tr>\n",
              "      <th>0</th>\n",
              "      <td>IndiGo</td>\n",
              "      <td>24/03/2019</td>\n",
              "      <td>Banglore</td>\n",
              "      <td>New Delhi</td>\n",
              "      <td>22:20</td>\n",
              "      <td>01:10 22 Mar</td>\n",
              "      <td>2h 50m</td>\n",
              "      <td>non-stop</td>\n",
              "      <td>3897</td>\n",
              "    </tr>\n",
              "    <tr>\n",
              "      <th>1</th>\n",
              "      <td>Air India</td>\n",
              "      <td>1/05/2019</td>\n",
              "      <td>Kolkata</td>\n",
              "      <td>Banglore</td>\n",
              "      <td>05:50</td>\n",
              "      <td>13:15</td>\n",
              "      <td>7h 25m</td>\n",
              "      <td>2 stops</td>\n",
              "      <td>7662</td>\n",
              "    </tr>\n",
              "    <tr>\n",
              "      <th>2</th>\n",
              "      <td>Jet Airways</td>\n",
              "      <td>9/06/2019</td>\n",
              "      <td>Delhi</td>\n",
              "      <td>Cochin</td>\n",
              "      <td>09:25</td>\n",
              "      <td>04:25 10 Jun</td>\n",
              "      <td>19h</td>\n",
              "      <td>2 stops</td>\n",
              "      <td>13882</td>\n",
              "    </tr>\n",
              "    <tr>\n",
              "      <th>3</th>\n",
              "      <td>IndiGo</td>\n",
              "      <td>12/05/2019</td>\n",
              "      <td>Kolkata</td>\n",
              "      <td>Banglore</td>\n",
              "      <td>18:05</td>\n",
              "      <td>23:30</td>\n",
              "      <td>5h 25m</td>\n",
              "      <td>1 stop</td>\n",
              "      <td>6218</td>\n",
              "    </tr>\n",
              "    <tr>\n",
              "      <th>4</th>\n",
              "      <td>IndiGo</td>\n",
              "      <td>01/03/2019</td>\n",
              "      <td>Banglore</td>\n",
              "      <td>New Delhi</td>\n",
              "      <td>16:50</td>\n",
              "      <td>21:35</td>\n",
              "      <td>4h 45m</td>\n",
              "      <td>1 stop</td>\n",
              "      <td>13302</td>\n",
              "    </tr>\n",
              "    <tr>\n",
              "      <th>...</th>\n",
              "      <td>...</td>\n",
              "      <td>...</td>\n",
              "      <td>...</td>\n",
              "      <td>...</td>\n",
              "      <td>...</td>\n",
              "      <td>...</td>\n",
              "      <td>...</td>\n",
              "      <td>...</td>\n",
              "      <td>...</td>\n",
              "    </tr>\n",
              "    <tr>\n",
              "      <th>10678</th>\n",
              "      <td>Air Asia</td>\n",
              "      <td>9/04/2019</td>\n",
              "      <td>Kolkata</td>\n",
              "      <td>Banglore</td>\n",
              "      <td>19:55</td>\n",
              "      <td>22:25</td>\n",
              "      <td>2h 30m</td>\n",
              "      <td>non-stop</td>\n",
              "      <td>4107</td>\n",
              "    </tr>\n",
              "    <tr>\n",
              "      <th>10679</th>\n",
              "      <td>Air India</td>\n",
              "      <td>27/04/2019</td>\n",
              "      <td>Kolkata</td>\n",
              "      <td>Banglore</td>\n",
              "      <td>20:45</td>\n",
              "      <td>23:20</td>\n",
              "      <td>2h 35m</td>\n",
              "      <td>non-stop</td>\n",
              "      <td>4145</td>\n",
              "    </tr>\n",
              "    <tr>\n",
              "      <th>10680</th>\n",
              "      <td>Jet Airways</td>\n",
              "      <td>27/04/2019</td>\n",
              "      <td>Banglore</td>\n",
              "      <td>Delhi</td>\n",
              "      <td>08:20</td>\n",
              "      <td>11:20</td>\n",
              "      <td>3h</td>\n",
              "      <td>non-stop</td>\n",
              "      <td>7229</td>\n",
              "    </tr>\n",
              "    <tr>\n",
              "      <th>10681</th>\n",
              "      <td>Vistara</td>\n",
              "      <td>01/03/2019</td>\n",
              "      <td>Banglore</td>\n",
              "      <td>New Delhi</td>\n",
              "      <td>11:30</td>\n",
              "      <td>14:10</td>\n",
              "      <td>2h 40m</td>\n",
              "      <td>non-stop</td>\n",
              "      <td>12648</td>\n",
              "    </tr>\n",
              "    <tr>\n",
              "      <th>10682</th>\n",
              "      <td>Air India</td>\n",
              "      <td>9/05/2019</td>\n",
              "      <td>Delhi</td>\n",
              "      <td>Cochin</td>\n",
              "      <td>10:55</td>\n",
              "      <td>19:15</td>\n",
              "      <td>8h 20m</td>\n",
              "      <td>2 stops</td>\n",
              "      <td>11753</td>\n",
              "    </tr>\n",
              "  </tbody>\n",
              "</table>\n",
              "<p>10682 rows × 9 columns</p>\n",
              "</div>"
            ],
            "text/plain": [
              "           Airline Date_of_Journey    Source  ... Duration Total_Stops  Price\n",
              "0           IndiGo      24/03/2019  Banglore  ...   2h 50m    non-stop   3897\n",
              "1        Air India       1/05/2019   Kolkata  ...   7h 25m     2 stops   7662\n",
              "2      Jet Airways       9/06/2019     Delhi  ...      19h     2 stops  13882\n",
              "3           IndiGo      12/05/2019   Kolkata  ...   5h 25m      1 stop   6218\n",
              "4           IndiGo      01/03/2019  Banglore  ...   4h 45m      1 stop  13302\n",
              "...            ...             ...       ...  ...      ...         ...    ...\n",
              "10678     Air Asia       9/04/2019   Kolkata  ...   2h 30m    non-stop   4107\n",
              "10679    Air India      27/04/2019   Kolkata  ...   2h 35m    non-stop   4145\n",
              "10680  Jet Airways      27/04/2019  Banglore  ...       3h    non-stop   7229\n",
              "10681      Vistara      01/03/2019  Banglore  ...   2h 40m    non-stop  12648\n",
              "10682    Air India       9/05/2019     Delhi  ...   8h 20m     2 stops  11753\n",
              "\n",
              "[10682 rows x 9 columns]"
            ]
          },
          "metadata": {
            "tags": []
          },
          "execution_count": 22
        }
      ]
    },
    {
      "cell_type": "code",
      "metadata": {
        "id": "vujtFxTd1DGK",
        "colab_type": "code",
        "colab": {
          "base_uri": "https://localhost:8080/",
          "height": 297
        },
        "outputId": "98005aa9-d8dc-460e-99c8-47cc3362fd32"
      },
      "source": [
        "sns.catplot(y = \"Price\", x = \"Source\", data = train_data.sort_values(\"Price\", ascending = False), kind=\"boxen\", height = 4, aspect = 3)\n",
        "plt.show()\n"
      ],
      "execution_count": 28,
      "outputs": [
        {
          "output_type": "display_data",
          "data": {
            "image/png": "[encoded data removed]",
            "text/plain": [
              "<Figure size 864x288 with 1 Axes>"
            ]
          },
          "metadata": {
            "tags": [],
            "needs_background": "light"
          }
        }
      ]
    },
    {
      "cell_type": "code",
      "metadata": {
        "id": "_bcX2eJ41k1-",
        "colab_type": "code",
        "colab": {
          "base_uri": "https://localhost:8080/",
          "height": 297
        },
        "outputId": "5891db17-ea13-4e11-afb7-d4ee30a37c5f"
      },
      "source": [
        "sns.catplot(y = \"Price\", x = \"Airline\", data = train_data.sort_values(\"Price\", ascending = False), kind=\"boxen\", height = 4, aspect = 3)\n",
        "plt.show()\n"
      ],
      "execution_count": 29,
      "outputs": [
        {
          "output_type": "display_data",
          "data": {
            "image/png": "[encoded data removed]",
            "text/plain": [
              "<Figure size 864x288 with 1 Axes>"
            ]
          },
          "metadata": {
            "tags": [],
            "needs_background": "light"
          }
        }
      ]
    },
    {
      "cell_type": "code",
      "metadata": {
        "id": "3kYatJE62hor",
        "colab_type": "code",
        "colab": {
          "base_uri": "https://localhost:8080/",
          "height": 195
        },
        "outputId": "5be2859c-311d-4659-8576-b93b1695bc3e"
      },
      "source": [
        "train_data.head()"
      ],
      "execution_count": 30,
      "outputs": [
        {
          "output_type": "execute_result",
          "data": {
            "text/html": [
              "<div>\n",
              "<style scoped>\n",
              "    .dataframe tbody tr th:only-of-type {\n",
              "        vertical-align: middle;\n",
              "    }\n",
              "\n",
              "    .dataframe tbody tr th {\n",
              "        vertical-align: top;\n",
              "    }\n",
              "\n",
              "    .dataframe thead th {\n",
              "        text-align: right;\n",
              "    }\n",
              "</style>\n",
              "<table border=\"1\" class=\"dataframe\">\n",
              "  <thead>\n",
              "    <tr style=\"text-align: right;\">\n",
              "      <th></th>\n",
              "      <th>Airline</th>\n",
              "      <th>Date_of_Journey</th>\n",
              "      <th>Source</th>\n",
              "      <th>Destination</th>\n",
              "      <th>Dep_Time</th>\n",
              "      <th>Arrival_Time</th>\n",
              "      <th>Duration</th>\n",
              "      <th>Total_Stops</th>\n",
              "      <th>Price</th>\n",
              "    </tr>\n",
              "  </thead>\n",
              "  <tbody>\n",
              "    <tr>\n",
              "      <th>0</th>\n",
              "      <td>IndiGo</td>\n",
              "      <td>24/03/2019</td>\n",
              "      <td>Banglore</td>\n",
              "      <td>New Delhi</td>\n",
              "      <td>22:20</td>\n",
              "      <td>01:10 22 Mar</td>\n",
              "      <td>2h 50m</td>\n",
              "      <td>non-stop</td>\n",
              "      <td>3897</td>\n",
              "    </tr>\n",
              "    <tr>\n",
              "      <th>1</th>\n",
              "      <td>Air India</td>\n",
              "      <td>1/05/2019</td>\n",
              "      <td>Kolkata</td>\n",
              "      <td>Banglore</td>\n",
              "      <td>05:50</td>\n",
              "      <td>13:15</td>\n",
              "      <td>7h 25m</td>\n",
              "      <td>2 stops</td>\n",
              "      <td>7662</td>\n",
              "    </tr>\n",
              "    <tr>\n",
              "      <th>2</th>\n",
              "      <td>Jet Airways</td>\n",
              "      <td>9/06/2019</td>\n",
              "      <td>Delhi</td>\n",
              "      <td>Cochin</td>\n",
              "      <td>09:25</td>\n",
              "      <td>04:25 10 Jun</td>\n",
              "      <td>19h</td>\n",
              "      <td>2 stops</td>\n",
              "      <td>13882</td>\n",
              "    </tr>\n",
              "    <tr>\n",
              "      <th>3</th>\n",
              "      <td>IndiGo</td>\n",
              "      <td>12/05/2019</td>\n",
              "      <td>Kolkata</td>\n",
              "      <td>Banglore</td>\n",
              "      <td>18:05</td>\n",
              "      <td>23:30</td>\n",
              "      <td>5h 25m</td>\n",
              "      <td>1 stop</td>\n",
              "      <td>6218</td>\n",
              "    </tr>\n",
              "    <tr>\n",
              "      <th>4</th>\n",
              "      <td>IndiGo</td>\n",
              "      <td>01/03/2019</td>\n",
              "      <td>Banglore</td>\n",
              "      <td>New Delhi</td>\n",
              "      <td>16:50</td>\n",
              "      <td>21:35</td>\n",
              "      <td>4h 45m</td>\n",
              "      <td>1 stop</td>\n",
              "      <td>13302</td>\n",
              "    </tr>\n",
              "  </tbody>\n",
              "</table>\n",
              "</div>"
            ],
            "text/plain": [
              "       Airline Date_of_Journey    Source  ... Duration Total_Stops  Price\n",
              "0       IndiGo      24/03/2019  Banglore  ...   2h 50m    non-stop   3897\n",
              "1    Air India       1/05/2019   Kolkata  ...   7h 25m     2 stops   7662\n",
              "2  Jet Airways       9/06/2019     Delhi  ...      19h     2 stops  13882\n",
              "3       IndiGo      12/05/2019   Kolkata  ...   5h 25m      1 stop   6218\n",
              "4       IndiGo      01/03/2019  Banglore  ...   4h 45m      1 stop  13302\n",
              "\n",
              "[5 rows x 9 columns]"
            ]
          },
          "metadata": {
            "tags": []
          },
          "execution_count": 30
        }
      ]
    },
    {
      "cell_type": "code",
      "metadata": {
        "id": "ipDxCAlr4U7I",
        "colab_type": "code",
        "colab": {
          "base_uri": "https://localhost:8080/",
          "height": 235
        },
        "outputId": "6e43aece-cfaa-4868-f0be-236ecf2fdaf9"
      },
      "source": [
        "train_data['Airline'].value_counts()"
      ],
      "execution_count": 33,
      "outputs": [
        {
          "output_type": "execute_result",
          "data": {
            "text/plain": [
              "Jet Airways                          3849\n",
              "IndiGo                               2053\n",
              "Air India                            1751\n",
              "Multiple carriers                    1196\n",
              "SpiceJet                              818\n",
              "Vistara                               479\n",
              "Air Asia                              319\n",
              "GoAir                                 194\n",
              "Multiple carriers Premium economy      13\n",
              "Jet Airways Business                    6\n",
              "Vistara Premium economy                 3\n",
              "Trujet                                  1\n",
              "Name: Airline, dtype: int64"
            ]
          },
          "metadata": {
            "tags": []
          },
          "execution_count": 33
        }
      ]
    },
    {
      "cell_type": "code",
      "metadata": {
        "id": "kQFLt9-Z3sPY",
        "colab_type": "code",
        "colab": {
          "base_uri": "https://localhost:8080/",
          "height": 229
        },
        "outputId": "7ebcd3b7-ec23-4c77-da7e-6b4c539cf5d7"
      },
      "source": [
        "airline=train_data['Airline']\n",
        "airline_hot=pd.get_dummies(airline,drop_first=True)\n",
        "airline_hot.head()"
      ],
      "execution_count": 34,
      "outputs": [
        {
          "output_type": "execute_result",
          "data": {
            "text/html": [
              "<div>\n",
              "<style scoped>\n",
              "    .dataframe tbody tr th:only-of-type {\n",
              "        vertical-align: middle;\n",
              "    }\n",
              "\n",
              "    .dataframe tbody tr th {\n",
              "        vertical-align: top;\n",
              "    }\n",
              "\n",
              "    .dataframe thead th {\n",
              "        text-align: right;\n",
              "    }\n",
              "</style>\n",
              "<table border=\"1\" class=\"dataframe\">\n",
              "  <thead>\n",
              "    <tr style=\"text-align: right;\">\n",
              "      <th></th>\n",
              "      <th>Air India</th>\n",
              "      <th>GoAir</th>\n",
              "      <th>IndiGo</th>\n",
              "      <th>Jet Airways</th>\n",
              "      <th>Jet Airways Business</th>\n",
              "      <th>Multiple carriers</th>\n",
              "      <th>Multiple carriers Premium economy</th>\n",
              "      <th>SpiceJet</th>\n",
              "      <th>Trujet</th>\n",
              "      <th>Vistara</th>\n",
              "      <th>Vistara Premium economy</th>\n",
              "    </tr>\n",
              "  </thead>\n",
              "  <tbody>\n",
              "    <tr>\n",
              "      <th>0</th>\n",
              "      <td>0</td>\n",
              "      <td>0</td>\n",
              "      <td>1</td>\n",
              "      <td>0</td>\n",
              "      <td>0</td>\n",
              "      <td>0</td>\n",
              "      <td>0</td>\n",
              "      <td>0</td>\n",
              "      <td>0</td>\n",
              "      <td>0</td>\n",
              "      <td>0</td>\n",
              "    </tr>\n",
              "    <tr>\n",
              "      <th>1</th>\n",
              "      <td>1</td>\n",
              "      <td>0</td>\n",
              "      <td>0</td>\n",
              "      <td>0</td>\n",
              "      <td>0</td>\n",
              "      <td>0</td>\n",
              "      <td>0</td>\n",
              "      <td>0</td>\n",
              "      <td>0</td>\n",
              "      <td>0</td>\n",
              "      <td>0</td>\n",
              "    </tr>\n",
              "    <tr>\n",
              "      <th>2</th>\n",
              "      <td>0</td>\n",
              "      <td>0</td>\n",
              "      <td>0</td>\n",
              "      <td>1</td>\n",
              "      <td>0</td>\n",
              "      <td>0</td>\n",
              "      <td>0</td>\n",
              "      <td>0</td>\n",
              "      <td>0</td>\n",
              "      <td>0</td>\n",
              "      <td>0</td>\n",
              "    </tr>\n",
              "    <tr>\n",
              "      <th>3</th>\n",
              "      <td>0</td>\n",
              "      <td>0</td>\n",
              "      <td>1</td>\n",
              "      <td>0</td>\n",
              "      <td>0</td>\n",
              "      <td>0</td>\n",
              "      <td>0</td>\n",
              "      <td>0</td>\n",
              "      <td>0</td>\n",
              "      <td>0</td>\n",
              "      <td>0</td>\n",
              "    </tr>\n",
              "    <tr>\n",
              "      <th>4</th>\n",
              "      <td>0</td>\n",
              "      <td>0</td>\n",
              "      <td>1</td>\n",
              "      <td>0</td>\n",
              "      <td>0</td>\n",
              "      <td>0</td>\n",
              "      <td>0</td>\n",
              "      <td>0</td>\n",
              "      <td>0</td>\n",
              "      <td>0</td>\n",
              "      <td>0</td>\n",
              "    </tr>\n",
              "  </tbody>\n",
              "</table>\n",
              "</div>"
            ],
            "text/plain": [
              "   Air India  GoAir  IndiGo  ...  Trujet  Vistara  Vistara Premium economy\n",
              "0          0      0       1  ...       0        0                        0\n",
              "1          1      0       0  ...       0        0                        0\n",
              "2          0      0       0  ...       0        0                        0\n",
              "3          0      0       1  ...       0        0                        0\n",
              "4          0      0       1  ...       0        0                        0\n",
              "\n",
              "[5 rows x 11 columns]"
            ]
          },
          "metadata": {
            "tags": []
          },
          "execution_count": 34
        }
      ]
    },
    {
      "cell_type": "code",
      "metadata": {
        "id": "iwJdp79q8Abh",
        "colab_type": "code",
        "colab": {
          "base_uri": "https://localhost:8080/",
          "height": 118
        },
        "outputId": "fb5a4c09-bb49-46ee-81cc-4fc6df75ad84"
      },
      "source": [
        "train_data['Source'].value_counts()"
      ],
      "execution_count": 42,
      "outputs": [
        {
          "output_type": "execute_result",
          "data": {
            "text/plain": [
              "Delhi       4536\n",
              "Kolkata     2871\n",
              "Banglore    2197\n",
              "Mumbai       697\n",
              "Chennai      381\n",
              "Name: Source, dtype: int64"
            ]
          },
          "metadata": {
            "tags": []
          },
          "execution_count": 42
        }
      ]
    },
    {
      "cell_type": "code",
      "metadata": {
        "id": "DKjKl2r63-2A",
        "colab_type": "code",
        "colab": {
          "base_uri": "https://localhost:8080/",
          "height": 195
        },
        "outputId": "55501580-8ee5-437d-b9a0-adbcb5c1724c"
      },
      "source": [
        "source=train_data['Source']\n",
        "source_hot=pd.get_dummies(source,prefix='source')\n",
        "source_hot.head()"
      ],
      "execution_count": 40,
      "outputs": [
        {
          "output_type": "execute_result",
          "data": {
            "text/html": [
              "<div>\n",
              "<style scoped>\n",
              "    .dataframe tbody tr th:only-of-type {\n",
              "        vertical-align: middle;\n",
              "    }\n",
              "\n",
              "    .dataframe tbody tr th {\n",
              "        vertical-align: top;\n",
              "    }\n",
              "\n",
              "    .dataframe thead th {\n",
              "        text-align: right;\n",
              "    }\n",
              "</style>\n",
              "<table border=\"1\" class=\"dataframe\">\n",
              "  <thead>\n",
              "    <tr style=\"text-align: right;\">\n",
              "      <th></th>\n",
              "      <th>source_Banglore</th>\n",
              "      <th>source_Chennai</th>\n",
              "      <th>source_Delhi</th>\n",
              "      <th>source_Kolkata</th>\n",
              "      <th>source_Mumbai</th>\n",
              "    </tr>\n",
              "  </thead>\n",
              "  <tbody>\n",
              "    <tr>\n",
              "      <th>0</th>\n",
              "      <td>1</td>\n",
              "      <td>0</td>\n",
              "      <td>0</td>\n",
              "      <td>0</td>\n",
              "      <td>0</td>\n",
              "    </tr>\n",
              "    <tr>\n",
              "      <th>1</th>\n",
              "      <td>0</td>\n",
              "      <td>0</td>\n",
              "      <td>0</td>\n",
              "      <td>1</td>\n",
              "      <td>0</td>\n",
              "    </tr>\n",
              "    <tr>\n",
              "      <th>2</th>\n",
              "      <td>0</td>\n",
              "      <td>0</td>\n",
              "      <td>1</td>\n",
              "      <td>0</td>\n",
              "      <td>0</td>\n",
              "    </tr>\n",
              "    <tr>\n",
              "      <th>3</th>\n",
              "      <td>0</td>\n",
              "      <td>0</td>\n",
              "      <td>0</td>\n",
              "      <td>1</td>\n",
              "      <td>0</td>\n",
              "    </tr>\n",
              "    <tr>\n",
              "      <th>4</th>\n",
              "      <td>1</td>\n",
              "      <td>0</td>\n",
              "      <td>0</td>\n",
              "      <td>0</td>\n",
              "      <td>0</td>\n",
              "    </tr>\n",
              "  </tbody>\n",
              "</table>\n",
              "</div>"
            ],
            "text/plain": [
              "   source_Banglore  source_Chennai  source_Delhi  source_Kolkata  source_Mumbai\n",
              "0                1               0             0               0              0\n",
              "1                0               0             0               1              0\n",
              "2                0               0             1               0              0\n",
              "3                0               0             0               1              0\n",
              "4                1               0             0               0              0"
            ]
          },
          "metadata": {
            "tags": []
          },
          "execution_count": 40
        }
      ]
    },
    {
      "cell_type": "code",
      "metadata": {
        "id": "N5x_eHQA8DeU",
        "colab_type": "code",
        "colab": {
          "base_uri": "https://localhost:8080/",
          "height": 134
        },
        "outputId": "72251fc9-8886-4b71-d13a-e19d859023a7"
      },
      "source": [
        "train_data['Destination'].value_counts()"
      ],
      "execution_count": 43,
      "outputs": [
        {
          "output_type": "execute_result",
          "data": {
            "text/plain": [
              "Cochin       4536\n",
              "Banglore     2871\n",
              "Delhi        1265\n",
              "New Delhi     932\n",
              "Hyderabad     697\n",
              "Kolkata       381\n",
              "Name: Destination, dtype: int64"
            ]
          },
          "metadata": {
            "tags": []
          },
          "execution_count": 43
        }
      ]
    },
    {
      "cell_type": "code",
      "metadata": {
        "id": "HdsFGya64wGQ",
        "colab_type": "code",
        "colab": {
          "base_uri": "https://localhost:8080/",
          "height": 195
        },
        "outputId": "4232d33d-0c21-44e1-a68b-963480a2c5c3"
      },
      "source": [
        "destination=train_data['Destination']\n",
        "destination_hot=pd.get_dummies(destination,prefix='destination')\n",
        "destination_hot.head()"
      ],
      "execution_count": 44,
      "outputs": [
        {
          "output_type": "execute_result",
          "data": {
            "text/html": [
              "<div>\n",
              "<style scoped>\n",
              "    .dataframe tbody tr th:only-of-type {\n",
              "        vertical-align: middle;\n",
              "    }\n",
              "\n",
              "    .dataframe tbody tr th {\n",
              "        vertical-align: top;\n",
              "    }\n",
              "\n",
              "    .dataframe thead th {\n",
              "        text-align: right;\n",
              "    }\n",
              "</style>\n",
              "<table border=\"1\" class=\"dataframe\">\n",
              "  <thead>\n",
              "    <tr style=\"text-align: right;\">\n",
              "      <th></th>\n",
              "      <th>destination_Banglore</th>\n",
              "      <th>destination_Cochin</th>\n",
              "      <th>destination_Delhi</th>\n",
              "      <th>destination_Hyderabad</th>\n",
              "      <th>destination_Kolkata</th>\n",
              "      <th>destination_New Delhi</th>\n",
              "    </tr>\n",
              "  </thead>\n",
              "  <tbody>\n",
              "    <tr>\n",
              "      <th>0</th>\n",
              "      <td>0</td>\n",
              "      <td>0</td>\n",
              "      <td>0</td>\n",
              "      <td>0</td>\n",
              "      <td>0</td>\n",
              "      <td>1</td>\n",
              "    </tr>\n",
              "    <tr>\n",
              "      <th>1</th>\n",
              "      <td>1</td>\n",
              "      <td>0</td>\n",
              "      <td>0</td>\n",
              "      <td>0</td>\n",
              "      <td>0</td>\n",
              "      <td>0</td>\n",
              "    </tr>\n",
              "    <tr>\n",
              "      <th>2</th>\n",
              "      <td>0</td>\n",
              "      <td>1</td>\n",
              "      <td>0</td>\n",
              "      <td>0</td>\n",
              "      <td>0</td>\n",
              "      <td>0</td>\n",
              "    </tr>\n",
              "    <tr>\n",
              "      <th>3</th>\n",
              "      <td>1</td>\n",
              "      <td>0</td>\n",
              "      <td>0</td>\n",
              "      <td>0</td>\n",
              "      <td>0</td>\n",
              "      <td>0</td>\n",
              "    </tr>\n",
              "    <tr>\n",
              "      <th>4</th>\n",
              "      <td>0</td>\n",
              "      <td>0</td>\n",
              "      <td>0</td>\n",
              "      <td>0</td>\n",
              "      <td>0</td>\n",
              "      <td>1</td>\n",
              "    </tr>\n",
              "  </tbody>\n",
              "</table>\n",
              "</div>"
            ],
            "text/plain": [
              "   destination_Banglore  ...  destination_New Delhi\n",
              "0                     0  ...                      1\n",
              "1                     1  ...                      0\n",
              "2                     0  ...                      0\n",
              "3                     1  ...                      0\n",
              "4                     0  ...                      1\n",
              "\n",
              "[5 rows x 6 columns]"
            ]
          },
          "metadata": {
            "tags": []
          },
          "execution_count": 44
        }
      ]
    },
    {
      "cell_type": "code",
      "metadata": {
        "id": "U5yZFKd57RAW",
        "colab_type": "code",
        "colab": {}
      },
      "source": [
        "train_data['journey_day']=pd.to_datetime(train_data['Date_of_Journey']).dt.day"
      ],
      "execution_count": 48,
      "outputs": []
    },
    {
      "cell_type": "code",
      "metadata": {
        "id": "ONaMTjIX9E36",
        "colab_type": "code",
        "colab": {}
      },
      "source": [
        "train_data['journey_month']=pd.to_datetime(train_data['Date_of_Journey']).dt.month"
      ],
      "execution_count": 49,
      "outputs": []
    },
    {
      "cell_type": "code",
      "metadata": {
        "id": "P2QIlcFu9KA2",
        "colab_type": "code",
        "colab": {
          "base_uri": "https://localhost:8080/",
          "height": 232
        },
        "outputId": "cad70f40-feee-4135-f920-6a761122f92d"
      },
      "source": [
        "train_data.head()"
      ],
      "execution_count": 50,
      "outputs": [
        {
          "output_type": "execute_result",
          "data": {
            "text/html": [
              "<div>\n",
              "<style scoped>\n",
              "    .dataframe tbody tr th:only-of-type {\n",
              "        vertical-align: middle;\n",
              "    }\n",
              "\n",
              "    .dataframe tbody tr th {\n",
              "        vertical-align: top;\n",
              "    }\n",
              "\n",
              "    .dataframe thead th {\n",
              "        text-align: right;\n",
              "    }\n",
              "</style>\n",
              "<table border=\"1\" class=\"dataframe\">\n",
              "  <thead>\n",
              "    <tr style=\"text-align: right;\">\n",
              "      <th></th>\n",
              "      <th>Airline</th>\n",
              "      <th>Date_of_Journey</th>\n",
              "      <th>Source</th>\n",
              "      <th>Destination</th>\n",
              "      <th>Dep_Time</th>\n",
              "      <th>Arrival_Time</th>\n",
              "      <th>Duration</th>\n",
              "      <th>Total_Stops</th>\n",
              "      <th>Price</th>\n",
              "      <th>journey_date</th>\n",
              "      <th>journey_month</th>\n",
              "      <th>journey_day</th>\n",
              "    </tr>\n",
              "  </thead>\n",
              "  <tbody>\n",
              "    <tr>\n",
              "      <th>0</th>\n",
              "      <td>IndiGo</td>\n",
              "      <td>24/03/2019</td>\n",
              "      <td>Banglore</td>\n",
              "      <td>New Delhi</td>\n",
              "      <td>22:20</td>\n",
              "      <td>01:10 22 Mar</td>\n",
              "      <td>2h 50m</td>\n",
              "      <td>non-stop</td>\n",
              "      <td>3897</td>\n",
              "      <td>2019-03-24</td>\n",
              "      <td>3</td>\n",
              "      <td>24</td>\n",
              "    </tr>\n",
              "    <tr>\n",
              "      <th>1</th>\n",
              "      <td>Air India</td>\n",
              "      <td>1/05/2019</td>\n",
              "      <td>Kolkata</td>\n",
              "      <td>Banglore</td>\n",
              "      <td>05:50</td>\n",
              "      <td>13:15</td>\n",
              "      <td>7h 25m</td>\n",
              "      <td>2 stops</td>\n",
              "      <td>7662</td>\n",
              "      <td>2019-01-05</td>\n",
              "      <td>1</td>\n",
              "      <td>5</td>\n",
              "    </tr>\n",
              "    <tr>\n",
              "      <th>2</th>\n",
              "      <td>Jet Airways</td>\n",
              "      <td>9/06/2019</td>\n",
              "      <td>Delhi</td>\n",
              "      <td>Cochin</td>\n",
              "      <td>09:25</td>\n",
              "      <td>04:25 10 Jun</td>\n",
              "      <td>19h</td>\n",
              "      <td>2 stops</td>\n",
              "      <td>13882</td>\n",
              "      <td>2019-09-06</td>\n",
              "      <td>9</td>\n",
              "      <td>6</td>\n",
              "    </tr>\n",
              "    <tr>\n",
              "      <th>3</th>\n",
              "      <td>IndiGo</td>\n",
              "      <td>12/05/2019</td>\n",
              "      <td>Kolkata</td>\n",
              "      <td>Banglore</td>\n",
              "      <td>18:05</td>\n",
              "      <td>23:30</td>\n",
              "      <td>5h 25m</td>\n",
              "      <td>1 stop</td>\n",
              "      <td>6218</td>\n",
              "      <td>2019-12-05</td>\n",
              "      <td>12</td>\n",
              "      <td>5</td>\n",
              "    </tr>\n",
              "    <tr>\n",
              "      <th>4</th>\n",
              "      <td>IndiGo</td>\n",
              "      <td>01/03/2019</td>\n",
              "      <td>Banglore</td>\n",
              "      <td>New Delhi</td>\n",
              "      <td>16:50</td>\n",
              "      <td>21:35</td>\n",
              "      <td>4h 45m</td>\n",
              "      <td>1 stop</td>\n",
              "      <td>13302</td>\n",
              "      <td>2019-01-03</td>\n",
              "      <td>1</td>\n",
              "      <td>3</td>\n",
              "    </tr>\n",
              "  </tbody>\n",
              "</table>\n",
              "</div>"
            ],
            "text/plain": [
              "       Airline Date_of_Journey  ... journey_month journey_day\n",
              "0       IndiGo      24/03/2019  ...             3          24\n",
              "1    Air India       1/05/2019  ...             1           5\n",
              "2  Jet Airways       9/06/2019  ...             9           6\n",
              "3       IndiGo      12/05/2019  ...            12           5\n",
              "4       IndiGo      01/03/2019  ...             1           3\n",
              "\n",
              "[5 rows x 12 columns]"
            ]
          },
          "metadata": {
            "tags": []
          },
          "execution_count": 50
        }
      ]
    },
    {
      "cell_type": "code",
      "metadata": {
        "id": "eM4ZJCHf-BNg",
        "colab_type": "code",
        "colab": {}
      },
      "source": [
        "train_data.drop('Date_of_Journey',inplace=True,axis=1)"
      ],
      "execution_count": null,
      "outputs": []
    },
    {
      "cell_type": "code",
      "metadata": {
        "id": "MkKdTrxO-h0a",
        "colab_type": "code",
        "colab": {}
      },
      "source": [
        "train_data.drop('journey_date',inplace=True,axis=1)"
      ],
      "execution_count": 53,
      "outputs": []
    },
    {
      "cell_type": "code",
      "metadata": {
        "id": "vvgy_4FO-rWy",
        "colab_type": "code",
        "colab": {
          "base_uri": "https://localhost:8080/",
          "height": 195
        },
        "outputId": "36338f61-6cdd-4e07-f111-02020a7943a3"
      },
      "source": [
        "train_data.head()"
      ],
      "execution_count": 54,
      "outputs": [
        {
          "output_type": "execute_result",
          "data": {
            "text/html": [
              "<div>\n",
              "<style scoped>\n",
              "    .dataframe tbody tr th:only-of-type {\n",
              "        vertical-align: middle;\n",
              "    }\n",
              "\n",
              "    .dataframe tbody tr th {\n",
              "        vertical-align: top;\n",
              "    }\n",
              "\n",
              "    .dataframe thead th {\n",
              "        text-align: right;\n",
              "    }\n",
              "</style>\n",
              "<table border=\"1\" class=\"dataframe\">\n",
              "  <thead>\n",
              "    <tr style=\"text-align: right;\">\n",
              "      <th></th>\n",
              "      <th>Airline</th>\n",
              "      <th>Source</th>\n",
              "      <th>Destination</th>\n",
              "      <th>Dep_Time</th>\n",
              "      <th>Arrival_Time</th>\n",
              "      <th>Duration</th>\n",
              "      <th>Total_Stops</th>\n",
              "      <th>Price</th>\n",
              "      <th>journey_month</th>\n",
              "      <th>journey_day</th>\n",
              "    </tr>\n",
              "  </thead>\n",
              "  <tbody>\n",
              "    <tr>\n",
              "      <th>0</th>\n",
              "      <td>IndiGo</td>\n",
              "      <td>Banglore</td>\n",
              "      <td>New Delhi</td>\n",
              "      <td>22:20</td>\n",
              "      <td>01:10 22 Mar</td>\n",
              "      <td>2h 50m</td>\n",
              "      <td>non-stop</td>\n",
              "      <td>3897</td>\n",
              "      <td>3</td>\n",
              "      <td>24</td>\n",
              "    </tr>\n",
              "    <tr>\n",
              "      <th>1</th>\n",
              "      <td>Air India</td>\n",
              "      <td>Kolkata</td>\n",
              "      <td>Banglore</td>\n",
              "      <td>05:50</td>\n",
              "      <td>13:15</td>\n",
              "      <td>7h 25m</td>\n",
              "      <td>2 stops</td>\n",
              "      <td>7662</td>\n",
              "      <td>1</td>\n",
              "      <td>5</td>\n",
              "    </tr>\n",
              "    <tr>\n",
              "      <th>2</th>\n",
              "      <td>Jet Airways</td>\n",
              "      <td>Delhi</td>\n",
              "      <td>Cochin</td>\n",
              "      <td>09:25</td>\n",
              "      <td>04:25 10 Jun</td>\n",
              "      <td>19h</td>\n",
              "      <td>2 stops</td>\n",
              "      <td>13882</td>\n",
              "      <td>9</td>\n",
              "      <td>6</td>\n",
              "    </tr>\n",
              "    <tr>\n",
              "      <th>3</th>\n",
              "      <td>IndiGo</td>\n",
              "      <td>Kolkata</td>\n",
              "      <td>Banglore</td>\n",
              "      <td>18:05</td>\n",
              "      <td>23:30</td>\n",
              "      <td>5h 25m</td>\n",
              "      <td>1 stop</td>\n",
              "      <td>6218</td>\n",
              "      <td>12</td>\n",
              "      <td>5</td>\n",
              "    </tr>\n",
              "    <tr>\n",
              "      <th>4</th>\n",
              "      <td>IndiGo</td>\n",
              "      <td>Banglore</td>\n",
              "      <td>New Delhi</td>\n",
              "      <td>16:50</td>\n",
              "      <td>21:35</td>\n",
              "      <td>4h 45m</td>\n",
              "      <td>1 stop</td>\n",
              "      <td>13302</td>\n",
              "      <td>1</td>\n",
              "      <td>3</td>\n",
              "    </tr>\n",
              "  </tbody>\n",
              "</table>\n",
              "</div>"
            ],
            "text/plain": [
              "       Airline    Source Destination  ...  Price journey_month journey_day\n",
              "0       IndiGo  Banglore   New Delhi  ...   3897             3          24\n",
              "1    Air India   Kolkata    Banglore  ...   7662             1           5\n",
              "2  Jet Airways     Delhi      Cochin  ...  13882             9           6\n",
              "3       IndiGo   Kolkata    Banglore  ...   6218            12           5\n",
              "4       IndiGo  Banglore   New Delhi  ...  13302             1           3\n",
              "\n",
              "[5 rows x 10 columns]"
            ]
          },
          "metadata": {
            "tags": []
          },
          "execution_count": 54
        }
      ]
    },
    {
      "cell_type": "code",
      "metadata": {
        "id": "Cz7WdZsQ-tMl",
        "colab_type": "code",
        "colab": {}
      },
      "source": [
        "train_data.drop('Airline',inplace=True,axis=1)"
      ],
      "execution_count": 55,
      "outputs": []
    },
    {
      "cell_type": "code",
      "metadata": {
        "id": "FUWXsKgrAlYZ",
        "colab_type": "code",
        "colab": {}
      },
      "source": [
        "train_data.drop('Source',inplace=True,axis=1)"
      ],
      "execution_count": 56,
      "outputs": []
    },
    {
      "cell_type": "code",
      "metadata": {
        "id": "llBmCxnTAqQf",
        "colab_type": "code",
        "colab": {}
      },
      "source": [
        "train_data.drop('Destination',inplace=True,axis=1)"
      ],
      "execution_count": 57,
      "outputs": []
    },
    {
      "cell_type": "code",
      "metadata": {
        "id": "yfTCdQ0XAwiO",
        "colab_type": "code",
        "colab": {}
      },
      "source": [
        "dep_time=train_data['Dep_Time']\n",
        "train_data['dep_hour']=pd.to_datetime(dep_time).dt.hour\n",
        "train_data['dep_minute']=pd.to_datetime(dep_time).dt.minute"
      ],
      "execution_count": 58,
      "outputs": []
    },
    {
      "cell_type": "code",
      "metadata": {
        "id": "Xrl5w1ZoBMTS",
        "colab_type": "code",
        "colab": {
          "base_uri": "https://localhost:8080/",
          "height": 195
        },
        "outputId": "ce0fa1ac-df52-4ba6-9a1d-98d292fe717f"
      },
      "source": [
        "train_data.head()"
      ],
      "execution_count": 59,
      "outputs": [
        {
          "output_type": "execute_result",
          "data": {
            "text/html": [
              "<div>\n",
              "<style scoped>\n",
              "    .dataframe tbody tr th:only-of-type {\n",
              "        vertical-align: middle;\n",
              "    }\n",
              "\n",
              "    .dataframe tbody tr th {\n",
              "        vertical-align: top;\n",
              "    }\n",
              "\n",
              "    .dataframe thead th {\n",
              "        text-align: right;\n",
              "    }\n",
              "</style>\n",
              "<table border=\"1\" class=\"dataframe\">\n",
              "  <thead>\n",
              "    <tr style=\"text-align: right;\">\n",
              "      <th></th>\n",
              "      <th>Dep_Time</th>\n",
              "      <th>Arrival_Time</th>\n",
              "      <th>Duration</th>\n",
              "      <th>Total_Stops</th>\n",
              "      <th>Price</th>\n",
              "      <th>journey_month</th>\n",
              "      <th>journey_day</th>\n",
              "      <th>dep_hour</th>\n",
              "      <th>dep_minute</th>\n",
              "    </tr>\n",
              "  </thead>\n",
              "  <tbody>\n",
              "    <tr>\n",
              "      <th>0</th>\n",
              "      <td>22:20</td>\n",
              "      <td>01:10 22 Mar</td>\n",
              "      <td>2h 50m</td>\n",
              "      <td>non-stop</td>\n",
              "      <td>3897</td>\n",
              "      <td>3</td>\n",
              "      <td>24</td>\n",
              "      <td>22</td>\n",
              "      <td>20</td>\n",
              "    </tr>\n",
              "    <tr>\n",
              "      <th>1</th>\n",
              "      <td>05:50</td>\n",
              "      <td>13:15</td>\n",
              "      <td>7h 25m</td>\n",
              "      <td>2 stops</td>\n",
              "      <td>7662</td>\n",
              "      <td>1</td>\n",
              "      <td>5</td>\n",
              "      <td>5</td>\n",
              "      <td>50</td>\n",
              "    </tr>\n",
              "    <tr>\n",
              "      <th>2</th>\n",
              "      <td>09:25</td>\n",
              "      <td>04:25 10 Jun</td>\n",
              "      <td>19h</td>\n",
              "      <td>2 stops</td>\n",
              "      <td>13882</td>\n",
              "      <td>9</td>\n",
              "      <td>6</td>\n",
              "      <td>9</td>\n",
              "      <td>25</td>\n",
              "    </tr>\n",
              "    <tr>\n",
              "      <th>3</th>\n",
              "      <td>18:05</td>\n",
              "      <td>23:30</td>\n",
              "      <td>5h 25m</td>\n",
              "      <td>1 stop</td>\n",
              "      <td>6218</td>\n",
              "      <td>12</td>\n",
              "      <td>5</td>\n",
              "      <td>18</td>\n",
              "      <td>5</td>\n",
              "    </tr>\n",
              "    <tr>\n",
              "      <th>4</th>\n",
              "      <td>16:50</td>\n",
              "      <td>21:35</td>\n",
              "      <td>4h 45m</td>\n",
              "      <td>1 stop</td>\n",
              "      <td>13302</td>\n",
              "      <td>1</td>\n",
              "      <td>3</td>\n",
              "      <td>16</td>\n",
              "      <td>50</td>\n",
              "    </tr>\n",
              "  </tbody>\n",
              "</table>\n",
              "</div>"
            ],
            "text/plain": [
              "  Dep_Time  Arrival_Time Duration  ... journey_day  dep_hour  dep_minute\n",
              "0    22:20  01:10 22 Mar   2h 50m  ...          24        22          20\n",
              "1    05:50         13:15   7h 25m  ...           5         5          50\n",
              "2    09:25  04:25 10 Jun      19h  ...           6         9          25\n",
              "3    18:05         23:30   5h 25m  ...           5        18           5\n",
              "4    16:50         21:35   4h 45m  ...           3        16          50\n",
              "\n",
              "[5 rows x 9 columns]"
            ]
          },
          "metadata": {
            "tags": []
          },
          "execution_count": 59
        }
      ]
    },
    {
      "cell_type": "code",
      "metadata": {
        "id": "qUm_y4GbBUc-",
        "colab_type": "code",
        "colab": {}
      },
      "source": [
        "train_data.drop('Dep_Time',axis=1,inplace=True)"
      ],
      "execution_count": 60,
      "outputs": []
    },
    {
      "cell_type": "code",
      "metadata": {
        "id": "CvCj-gswBOrO",
        "colab_type": "code",
        "colab": {}
      },
      "source": [
        "arr_time=train_data['Arrival_Time']\n",
        "train_data['arr_hour']=pd.to_datetime(arr_time).dt.hour\n",
        "train_data['arr_minute']=pd.to_datetime(arr_time).dt.minute"
      ],
      "execution_count": 61,
      "outputs": []
    },
    {
      "cell_type": "code",
      "metadata": {
        "id": "aPMZSR1PCjZQ",
        "colab_type": "code",
        "colab": {}
      },
      "source": [
        "train_data.drop('Arrival_Time',axis=1,inplace=True)"
      ],
      "execution_count": 62,
      "outputs": []
    },
    {
      "cell_type": "code",
      "metadata": {
        "id": "rmbeZonDCWdO",
        "colab_type": "code",
        "colab": {
          "base_uri": "https://localhost:8080/",
          "height": 195
        },
        "outputId": "130b5374-8551-4fed-d0c8-ce70e3076fd2"
      },
      "source": [
        "train_data.head()"
      ],
      "execution_count": 63,
      "outputs": [
        {
          "output_type": "execute_result",
          "data": {
            "text/html": [
              "<div>\n",
              "<style scoped>\n",
              "    .dataframe tbody tr th:only-of-type {\n",
              "        vertical-align: middle;\n",
              "    }\n",
              "\n",
              "    .dataframe tbody tr th {\n",
              "        vertical-align: top;\n",
              "    }\n",
              "\n",
              "    .dataframe thead th {\n",
              "        text-align: right;\n",
              "    }\n",
              "</style>\n",
              "<table border=\"1\" class=\"dataframe\">\n",
              "  <thead>\n",
              "    <tr style=\"text-align: right;\">\n",
              "      <th></th>\n",
              "      <th>Duration</th>\n",
              "      <th>Total_Stops</th>\n",
              "      <th>Price</th>\n",
              "      <th>journey_month</th>\n",
              "      <th>journey_day</th>\n",
              "      <th>dep_hour</th>\n",
              "      <th>dep_minute</th>\n",
              "      <th>arr_hour</th>\n",
              "      <th>arr_minute</th>\n",
              "    </tr>\n",
              "  </thead>\n",
              "  <tbody>\n",
              "    <tr>\n",
              "      <th>0</th>\n",
              "      <td>2h 50m</td>\n",
              "      <td>non-stop</td>\n",
              "      <td>3897</td>\n",
              "      <td>3</td>\n",
              "      <td>24</td>\n",
              "      <td>22</td>\n",
              "      <td>20</td>\n",
              "      <td>1</td>\n",
              "      <td>10</td>\n",
              "    </tr>\n",
              "    <tr>\n",
              "      <th>1</th>\n",
              "      <td>7h 25m</td>\n",
              "      <td>2 stops</td>\n",
              "      <td>7662</td>\n",
              "      <td>1</td>\n",
              "      <td>5</td>\n",
              "      <td>5</td>\n",
              "      <td>50</td>\n",
              "      <td>13</td>\n",
              "      <td>15</td>\n",
              "    </tr>\n",
              "    <tr>\n",
              "      <th>2</th>\n",
              "      <td>19h</td>\n",
              "      <td>2 stops</td>\n",
              "      <td>13882</td>\n",
              "      <td>9</td>\n",
              "      <td>6</td>\n",
              "      <td>9</td>\n",
              "      <td>25</td>\n",
              "      <td>4</td>\n",
              "      <td>25</td>\n",
              "    </tr>\n",
              "    <tr>\n",
              "      <th>3</th>\n",
              "      <td>5h 25m</td>\n",
              "      <td>1 stop</td>\n",
              "      <td>6218</td>\n",
              "      <td>12</td>\n",
              "      <td>5</td>\n",
              "      <td>18</td>\n",
              "      <td>5</td>\n",
              "      <td>23</td>\n",
              "      <td>30</td>\n",
              "    </tr>\n",
              "    <tr>\n",
              "      <th>4</th>\n",
              "      <td>4h 45m</td>\n",
              "      <td>1 stop</td>\n",
              "      <td>13302</td>\n",
              "      <td>1</td>\n",
              "      <td>3</td>\n",
              "      <td>16</td>\n",
              "      <td>50</td>\n",
              "      <td>21</td>\n",
              "      <td>35</td>\n",
              "    </tr>\n",
              "  </tbody>\n",
              "</table>\n",
              "</div>"
            ],
            "text/plain": [
              "  Duration Total_Stops  Price  ...  dep_minute  arr_hour  arr_minute\n",
              "0   2h 50m    non-stop   3897  ...          20         1          10\n",
              "1   7h 25m     2 stops   7662  ...          50        13          15\n",
              "2      19h     2 stops  13882  ...          25         4          25\n",
              "3   5h 25m      1 stop   6218  ...           5        23          30\n",
              "4   4h 45m      1 stop  13302  ...          50        21          35\n",
              "\n",
              "[5 rows x 9 columns]"
            ]
          },
          "metadata": {
            "tags": []
          },
          "execution_count": 63
        }
      ]
    },
    {
      "cell_type": "code",
      "metadata": {
        "id": "dSI4jlP-CvZi",
        "colab_type": "code",
        "colab": {
          "base_uri": "https://localhost:8080/",
          "height": 118
        },
        "outputId": "89862359-1009-4bd2-f297-2b9501322588"
      },
      "source": [
        "train_data['Total_Stops'].value_counts()"
      ],
      "execution_count": 64,
      "outputs": [
        {
          "output_type": "execute_result",
          "data": {
            "text/plain": [
              "1 stop      5625\n",
              "non-stop    3491\n",
              "2 stops     1520\n",
              "3 stops       45\n",
              "4 stops        1\n",
              "Name: Total_Stops, dtype: int64"
            ]
          },
          "metadata": {
            "tags": []
          },
          "execution_count": 64
        }
      ]
    },
    {
      "cell_type": "code",
      "metadata": {
        "id": "72m4V3HJCmTc",
        "colab_type": "code",
        "colab": {}
      },
      "source": [
        "stops={'Total_Stops':{\n",
        "    '1 stop':1,\n",
        "    'non-stop':0,\n",
        "    '2 stops':2,\n",
        "    '3 stops':3,\n",
        "    '4 stops':4\n",
        "}}"
      ],
      "execution_count": 65,
      "outputs": []
    },
    {
      "cell_type": "code",
      "metadata": {
        "id": "-mYiCnRhDBHN",
        "colab_type": "code",
        "colab": {}
      },
      "source": [
        "train_data.replace(stops,inplace=True)"
      ],
      "execution_count": 69,
      "outputs": []
    },
    {
      "cell_type": "code",
      "metadata": {
        "id": "TkIn9IdbDLHt",
        "colab_type": "code",
        "colab": {
          "base_uri": "https://localhost:8080/",
          "height": 195
        },
        "outputId": "9cd398f1-8fe4-437f-9b6c-d262b1236d4e"
      },
      "source": [
        "train_data.head()"
      ],
      "execution_count": 70,
      "outputs": [
        {
          "output_type": "execute_result",
          "data": {
            "text/html": [
              "<div>\n",
              "<style scoped>\n",
              "    .dataframe tbody tr th:only-of-type {\n",
              "        vertical-align: middle;\n",
              "    }\n",
              "\n",
              "    .dataframe tbody tr th {\n",
              "        vertical-align: top;\n",
              "    }\n",
              "\n",
              "    .dataframe thead th {\n",
              "        text-align: right;\n",
              "    }\n",
              "</style>\n",
              "<table border=\"1\" class=\"dataframe\">\n",
              "  <thead>\n",
              "    <tr style=\"text-align: right;\">\n",
              "      <th></th>\n",
              "      <th>Duration</th>\n",
              "      <th>Total_Stops</th>\n",
              "      <th>Price</th>\n",
              "      <th>journey_month</th>\n",
              "      <th>journey_day</th>\n",
              "      <th>dep_hour</th>\n",
              "      <th>dep_minute</th>\n",
              "      <th>arr_hour</th>\n",
              "      <th>arr_minute</th>\n",
              "    </tr>\n",
              "  </thead>\n",
              "  <tbody>\n",
              "    <tr>\n",
              "      <th>0</th>\n",
              "      <td>2h 50m</td>\n",
              "      <td>0</td>\n",
              "      <td>3897</td>\n",
              "      <td>3</td>\n",
              "      <td>24</td>\n",
              "      <td>22</td>\n",
              "      <td>20</td>\n",
              "      <td>1</td>\n",
              "      <td>10</td>\n",
              "    </tr>\n",
              "    <tr>\n",
              "      <th>1</th>\n",
              "      <td>7h 25m</td>\n",
              "      <td>2</td>\n",
              "      <td>7662</td>\n",
              "      <td>1</td>\n",
              "      <td>5</td>\n",
              "      <td>5</td>\n",
              "      <td>50</td>\n",
              "      <td>13</td>\n",
              "      <td>15</td>\n",
              "    </tr>\n",
              "    <tr>\n",
              "      <th>2</th>\n",
              "      <td>19h</td>\n",
              "      <td>2</td>\n",
              "      <td>13882</td>\n",
              "      <td>9</td>\n",
              "      <td>6</td>\n",
              "      <td>9</td>\n",
              "      <td>25</td>\n",
              "      <td>4</td>\n",
              "      <td>25</td>\n",
              "    </tr>\n",
              "    <tr>\n",
              "      <th>3</th>\n",
              "      <td>5h 25m</td>\n",
              "      <td>1</td>\n",
              "      <td>6218</td>\n",
              "      <td>12</td>\n",
              "      <td>5</td>\n",
              "      <td>18</td>\n",
              "      <td>5</td>\n",
              "      <td>23</td>\n",
              "      <td>30</td>\n",
              "    </tr>\n",
              "    <tr>\n",
              "      <th>4</th>\n",
              "      <td>4h 45m</td>\n",
              "      <td>1</td>\n",
              "      <td>13302</td>\n",
              "      <td>1</td>\n",
              "      <td>3</td>\n",
              "      <td>16</td>\n",
              "      <td>50</td>\n",
              "      <td>21</td>\n",
              "      <td>35</td>\n",
              "    </tr>\n",
              "  </tbody>\n",
              "</table>\n",
              "</div>"
            ],
            "text/plain": [
              "  Duration  Total_Stops  Price  ...  dep_minute  arr_hour  arr_minute\n",
              "0   2h 50m            0   3897  ...          20         1          10\n",
              "1   7h 25m            2   7662  ...          50        13          15\n",
              "2      19h            2  13882  ...          25         4          25\n",
              "3   5h 25m            1   6218  ...           5        23          30\n",
              "4   4h 45m            1  13302  ...          50        21          35\n",
              "\n",
              "[5 rows x 9 columns]"
            ]
          },
          "metadata": {
            "tags": []
          },
          "execution_count": 70
        }
      ]
    },
    {
      "cell_type": "code",
      "metadata": {
        "id": "gcjtOQEvD1Ea",
        "colab_type": "code",
        "colab": {}
      },
      "source": [
        "duration=list(train_data['Duration'])\n",
        "duration_min=[]\n",
        "for i in range(len(duration)):\n",
        "  duration_split=duration[i].split(' ')\n",
        "  if(len(duration_split)==1):\n",
        "    if 'h' in duration_split[0]:\n",
        "      duration[i]=duration[i]+' 0m'\n",
        "    if 'm' in duration_split[0]:\n",
        "      duration[i]='0h '+duration[i]\n",
        "    \n",
        "      "
      ],
      "execution_count": 71,
      "outputs": []
    },
    {
      "cell_type": "code",
      "metadata": {
        "id": "ixlQPWOkFfuk",
        "colab_type": "code",
        "colab": {}
      },
      "source": [
        "for i in range(len(duration)):\n",
        "  duration_split=duration[i].split(' ')\n",
        "  hr=duration_split[0].replace('h','')\n",
        "  hr=int(hr)\n",
        "  min=duration_split[1].replace('m','')\n",
        "  min=int(min)\n",
        "  duration_min.append(min+(hr*60))"
      ],
      "execution_count": 74,
      "outputs": []
    },
    {
      "cell_type": "code",
      "metadata": {
        "id": "1ip3d900FhUX",
        "colab_type": "code",
        "colab": {
          "base_uri": "https://localhost:8080/",
          "height": 1000
        },
        "outputId": "ae9c8f0c-bed4-460c-c185-df8722eab6ee"
      },
      "source": [
        "duration_min"
      ],
      "execution_count": 75,
      "outputs": [
        {
          "output_type": "execute_result",
          "data": {
            "text/plain": [
              "[170,\n",
              " 445,\n",
              " 1140,\n",
              " 325,\n",
              " 285,\n",
              " 145,\n",
              " 930,\n",
              " 1265,\n",
              " 1530,\n",
              " 470,\n",
              " 795,\n",
              " 155,\n",
              " 135,\n",
              " 730,\n",
              " 155,\n",
              " 1595,\n",
              " 270,\n",
              " 1355,\n",
              " 1380,\n",
              " 1235,\n",
              " 310,\n",
              " 920,\n",
              " 170,\n",
              " 175,\n",
              " 800,\n",
              " 910,\n",
              " 345,\n",
              " 355,\n",
              " 170,\n",
              " 135,\n",
              " 135,\n",
              " 805,\n",
              " 170,\n",
              " 1320,\n",
              " 330,\n",
              " 625,\n",
              " 315,\n",
              " 150,\n",
              " 375,\n",
              " 715,\n",
              " 665,\n",
              " 510,\n",
              " 1325,\n",
              " 165,\n",
              " 720,\n",
              " 170,\n",
              " 170,\n",
              " 135,\n",
              " 965,\n",
              " 1195,\n",
              " 195,\n",
              " 1520,\n",
              " 170,\n",
              " 180,\n",
              " 170,\n",
              " 975,\n",
              " 905,\n",
              " 135,\n",
              " 390,\n",
              " 1505,\n",
              " 745,\n",
              " 1640,\n",
              " 615,\n",
              " 630,\n",
              " 135,\n",
              " 625,\n",
              " 170,\n",
              " 90,\n",
              " 800,\n",
              " 135,\n",
              " 85,\n",
              " 1590,\n",
              " 440,\n",
              " 810,\n",
              " 300,\n",
              " 165,\n",
              " 170,\n",
              " 90,\n",
              " 1145,\n",
              " 135,\n",
              " 890,\n",
              " 160,\n",
              " 1330,\n",
              " 575,\n",
              " 600,\n",
              " 1280,\n",
              " 325,\n",
              " 1125,\n",
              " 740,\n",
              " 1080,\n",
              " 555,\n",
              " 665,\n",
              " 1050,\n",
              " 800,\n",
              " 155,\n",
              " 145,\n",
              " 160,\n",
              " 180,\n",
              " 85,\n",
              " 995,\n",
              " 740,\n",
              " 735,\n",
              " 450,\n",
              " 1440,\n",
              " 165,\n",
              " 535,\n",
              " 430,\n",
              " 870,\n",
              " 1820,\n",
              " 1195,\n",
              " 900,\n",
              " 175,\n",
              " 765,\n",
              " 610,\n",
              " 355,\n",
              " 925,\n",
              " 965,\n",
              " 610,\n",
              " 160,\n",
              " 715,\n",
              " 160,\n",
              " 85,\n",
              " 845,\n",
              " 1215,\n",
              " 145,\n",
              " 1390,\n",
              " 1090,\n",
              " 960,\n",
              " 170,\n",
              " 140,\n",
              " 480,\n",
              " 1015,\n",
              " 190,\n",
              " 165,\n",
              " 840,\n",
              " 1430,\n",
              " 1300,\n",
              " 1275,\n",
              " 165,\n",
              " 650,\n",
              " 480,\n",
              " 495,\n",
              " 325,\n",
              " 515,\n",
              " 710,\n",
              " 1655,\n",
              " 505,\n",
              " 1255,\n",
              " 290,\n",
              " 490,\n",
              " 140,\n",
              " 1465,\n",
              " 170,\n",
              " 740,\n",
              " 735,\n",
              " 1415,\n",
              " 995,\n",
              " 170,\n",
              " 1545,\n",
              " 1570,\n",
              " 1730,\n",
              " 165,\n",
              " 1515,\n",
              " 560,\n",
              " 270,\n",
              " 925,\n",
              " 90,\n",
              " 160,\n",
              " 550,\n",
              " 165,\n",
              " 1355,\n",
              " 185,\n",
              " 690,\n",
              " 570,\n",
              " 730,\n",
              " 1055,\n",
              " 305,\n",
              " 1550,\n",
              " 1200,\n",
              " 780,\n",
              " 1105,\n",
              " 90,\n",
              " 570,\n",
              " 960,\n",
              " 140,\n",
              " 270,\n",
              " 345,\n",
              " 1450,\n",
              " 155,\n",
              " 165,\n",
              " 295,\n",
              " 1535,\n",
              " 380,\n",
              " 185,\n",
              " 1120,\n",
              " 135,\n",
              " 730,\n",
              " 1165,\n",
              " 170,\n",
              " 505,\n",
              " 555,\n",
              " 170,\n",
              " 195,\n",
              " 170,\n",
              " 740,\n",
              " 175,\n",
              " 575,\n",
              " 155,\n",
              " 570,\n",
              " 1760,\n",
              " 175,\n",
              " 315,\n",
              " 545,\n",
              " 645,\n",
              " 295,\n",
              " 90,\n",
              " 700,\n",
              " 165,\n",
              " 175,\n",
              " 600,\n",
              " 165,\n",
              " 615,\n",
              " 85,\n",
              " 555,\n",
              " 1375,\n",
              " 1730,\n",
              " 2245,\n",
              " 170,\n",
              " 90,\n",
              " 90,\n",
              " 1540,\n",
              " 155,\n",
              " 375,\n",
              " 1050,\n",
              " 345,\n",
              " 155,\n",
              " 1530,\n",
              " 835,\n",
              " 175,\n",
              " 615,\n",
              " 520,\n",
              " 330,\n",
              " 720,\n",
              " 135,\n",
              " 135,\n",
              " 170,\n",
              " 550,\n",
              " 625,\n",
              " 140,\n",
              " 270,\n",
              " 190,\n",
              " 1410,\n",
              " 1640,\n",
              " 755,\n",
              " 1455,\n",
              " 80,\n",
              " 165,\n",
              " 180,\n",
              " 660,\n",
              " 810,\n",
              " 170,\n",
              " 175,\n",
              " 165,\n",
              " 675,\n",
              " 875,\n",
              " 835,\n",
              " 845,\n",
              " 905,\n",
              " 135,\n",
              " 900,\n",
              " 775,\n",
              " 540,\n",
              " 735,\n",
              " 460,\n",
              " 1640,\n",
              " 85,\n",
              " 80,\n",
              " 330,\n",
              " 705,\n",
              " 195,\n",
              " 1495,\n",
              " 1640,\n",
              " 175,\n",
              " 1025,\n",
              " 160,\n",
              " 480,\n",
              " 180,\n",
              " 1655,\n",
              " 450,\n",
              " 1375,\n",
              " 515,\n",
              " 1795,\n",
              " 1335,\n",
              " 80,\n",
              " 160,\n",
              " 180,\n",
              " 730,\n",
              " 155,\n",
              " 705,\n",
              " 155,\n",
              " 90,\n",
              " 160,\n",
              " 155,\n",
              " 1375,\n",
              " 880,\n",
              " 925,\n",
              " 435,\n",
              " 1210,\n",
              " 1245,\n",
              " 150,\n",
              " 1430,\n",
              " 1620,\n",
              " 330,\n",
              " 710,\n",
              " 135,\n",
              " 1470,\n",
              " 140,\n",
              " 390,\n",
              " 1225,\n",
              " 155,\n",
              " 175,\n",
              " 335,\n",
              " 150,\n",
              " 885,\n",
              " 740,\n",
              " 1530,\n",
              " 335,\n",
              " 705,\n",
              " 175,\n",
              " 340,\n",
              " 245,\n",
              " 480,\n",
              " 165,\n",
              " 160,\n",
              " 175,\n",
              " 955,\n",
              " 1390,\n",
              " 440,\n",
              " 170,\n",
              " 450,\n",
              " 180,\n",
              " 465,\n",
              " 1520,\n",
              " 625,\n",
              " 1820,\n",
              " 155,\n",
              " 540,\n",
              " 910,\n",
              " 1700,\n",
              " 180,\n",
              " 165,\n",
              " 295,\n",
              " 160,\n",
              " 1330,\n",
              " 610,\n",
              " 170,\n",
              " 260,\n",
              " 660,\n",
              " 180,\n",
              " 1355,\n",
              " 185,\n",
              " 160,\n",
              " 170,\n",
              " 1265,\n",
              " 710,\n",
              " 1535,\n",
              " 925,\n",
              " 145,\n",
              " 220,\n",
              " 175,\n",
              " 190,\n",
              " 710,\n",
              " 170,\n",
              " 170,\n",
              " 90,\n",
              " 690,\n",
              " 530,\n",
              " 1215,\n",
              " 1210,\n",
              " 965,\n",
              " 755,\n",
              " 1025,\n",
              " 180,\n",
              " 930,\n",
              " 690,\n",
              " 140,\n",
              " 1425,\n",
              " 90,\n",
              " 155,\n",
              " 1485,\n",
              " 1295,\n",
              " 330,\n",
              " 735,\n",
              " 485,\n",
              " 300,\n",
              " 170,\n",
              " 385,\n",
              " 140,\n",
              " 165,\n",
              " 765,\n",
              " 950,\n",
              " 1620,\n",
              " 1585,\n",
              " 175,\n",
              " 1490,\n",
              " 520,\n",
              " 1545,\n",
              " 170,\n",
              " 375,\n",
              " 630,\n",
              " 1560,\n",
              " 1025,\n",
              " 1280,\n",
              " 335,\n",
              " 170,\n",
              " 1550,\n",
              " 730,\n",
              " 1025,\n",
              " 510,\n",
              " 1385,\n",
              " 560,\n",
              " 475,\n",
              " 90,\n",
              " 170,\n",
              " 135,\n",
              " 600,\n",
              " 155,\n",
              " 465,\n",
              " 175,\n",
              " 1580,\n",
              " 160,\n",
              " 660,\n",
              " 1165,\n",
              " 175,\n",
              " 165,\n",
              " 1395,\n",
              " 540,\n",
              " 190,\n",
              " 385,\n",
              " 520,\n",
              " 170,\n",
              " 740,\n",
              " 320,\n",
              " 240,\n",
              " 585,\n",
              " 175,\n",
              " 1580,\n",
              " 135,\n",
              " 585,\n",
              " 1495,\n",
              " 715,\n",
              " 500,\n",
              " 1045,\n",
              " 170,\n",
              " 425,\n",
              " 1275,\n",
              " 300,\n",
              " 145,\n",
              " 315,\n",
              " 910,\n",
              " 705,\n",
              " 180,\n",
              " 295,\n",
              " 165,\n",
              " 150,\n",
              " 585,\n",
              " 160,\n",
              " 390,\n",
              " 330,\n",
              " 160,\n",
              " 2045,\n",
              " 925,\n",
              " 570,\n",
              " 365,\n",
              " 160,\n",
              " 350,\n",
              " 165,\n",
              " 1640,\n",
              " 180,\n",
              " 315,\n",
              " 960,\n",
              " 420,\n",
              " 520,\n",
              " 540,\n",
              " 140,\n",
              " 140,\n",
              " 380,\n",
              " 265,\n",
              " 140,\n",
              " 665,\n",
              " 1015,\n",
              " 825,\n",
              " 1545,\n",
              " 835,\n",
              " 315,\n",
              " 1155,\n",
              " 450,\n",
              " 540,\n",
              " 1440,\n",
              " 1090,\n",
              " 175,\n",
              " 90,\n",
              " 1280,\n",
              " 375,\n",
              " 870,\n",
              " 80,\n",
              " 775,\n",
              " 145,\n",
              " 1350,\n",
              " 1375,\n",
              " 325,\n",
              " 85,\n",
              " 435,\n",
              " 740,\n",
              " 1210,\n",
              " 1275,\n",
              " 135,\n",
              " 630,\n",
              " 845,\n",
              " 170,\n",
              " 985,\n",
              " 315,\n",
              " 830,\n",
              " 135,\n",
              " 435,\n",
              " 1625,\n",
              " 1655,\n",
              " 300,\n",
              " 170,\n",
              " 170,\n",
              " 920,\n",
              " 320,\n",
              " 610,\n",
              " 1655,\n",
              " 575,\n",
              " 1690,\n",
              " 840,\n",
              " 155,\n",
              " 175,\n",
              " 155,\n",
              " 280,\n",
              " 150,\n",
              " 675,\n",
              " 475,\n",
              " 530,\n",
              " 85,\n",
              " 940,\n",
              " 155,\n",
              " 175,\n",
              " 805,\n",
              " 275,\n",
              " 1110,\n",
              " 135,\n",
              " 2295,\n",
              " 185,\n",
              " 1550,\n",
              " 190,\n",
              " 170,\n",
              " 690,\n",
              " 395,\n",
              " 1655,\n",
              " 155,\n",
              " 450,\n",
              " 195,\n",
              " 575,\n",
              " 750,\n",
              " 680,\n",
              " 180,\n",
              " 155,\n",
              " 90,\n",
              " 1570,\n",
              " 295,\n",
              " 165,\n",
              " 520,\n",
              " 425,\n",
              " 165,\n",
              " 1490,\n",
              " 140,\n",
              " 660,\n",
              " 540,\n",
              " 175,\n",
              " 185,\n",
              " 155,\n",
              " 780,\n",
              " 85,\n",
              " 455,\n",
              " 160,\n",
              " 775,\n",
              " 1760,\n",
              " 300,\n",
              " 520,\n",
              " 180,\n",
              " 180,\n",
              " 165,\n",
              " 730,\n",
              " 140,\n",
              " 475,\n",
              " 1775,\n",
              " 1615,\n",
              " 765,\n",
              " 455,\n",
              " 150,\n",
              " 705,\n",
              " 1420,\n",
              " 830,\n",
              " 770,\n",
              " 590,\n",
              " 150,\n",
              " 1315,\n",
              " 1570,\n",
              " 175,\n",
              " 1215,\n",
              " 1210,\n",
              " 655,\n",
              " 150,\n",
              " 1270,\n",
              " 155,\n",
              " 1240,\n",
              " 170,\n",
              " 390,\n",
              " 1800,\n",
              " 790,\n",
              " 175,\n",
              " 1080,\n",
              " 480,\n",
              " 525,\n",
              " 750,\n",
              " 800,\n",
              " 370,\n",
              " 450,\n",
              " 1155,\n",
              " 155,\n",
              " 720,\n",
              " 180,\n",
              " 170,\n",
              " 85,\n",
              " 1385,\n",
              " 170,\n",
              " 1325,\n",
              " 135,\n",
              " 345,\n",
              " 170,\n",
              " 570,\n",
              " 535,\n",
              " 1065,\n",
              " 170,\n",
              " 1305,\n",
              " 755,\n",
              " 90,\n",
              " 135,\n",
              " 235,\n",
              " 165,\n",
              " 450,\n",
              " 1040,\n",
              " 90,\n",
              " 90,\n",
              " 1830,\n",
              " 300,\n",
              " 675,\n",
              " 170,\n",
              " 1145,\n",
              " 395,\n",
              " 450,\n",
              " 135,\n",
              " 165,\n",
              " 765,\n",
              " 170,\n",
              " 1595,\n",
              " 775,\n",
              " 90,\n",
              " 520,\n",
              " 840,\n",
              " 1410,\n",
              " 1795,\n",
              " 1330,\n",
              " 290,\n",
              " 165,\n",
              " 810,\n",
              " 800,\n",
              " 140,\n",
              " 715,\n",
              " 310,\n",
              " 705,\n",
              " 830,\n",
              " 180,\n",
              " 370,\n",
              " 140,\n",
              " 645,\n",
              " 135,\n",
              " 175,\n",
              " 90,\n",
              " 455,\n",
              " 1595,\n",
              " 285,\n",
              " 1285,\n",
              " 515,\n",
              " 510,\n",
              " 135,\n",
              " 760,\n",
              " 505,\n",
              " 1540,\n",
              " 165,\n",
              " 1760,\n",
              " 160,\n",
              " 170,\n",
              " 140,\n",
              " 435,\n",
              " 1215,\n",
              " 705,\n",
              " 155,\n",
              " 810,\n",
              " 90,\n",
              " 1475,\n",
              " 1235,\n",
              " 170,\n",
              " 275,\n",
              " 140,\n",
              " 705,\n",
              " 90,\n",
              " 770,\n",
              " 1470,\n",
              " 690,\n",
              " 240,\n",
              " 660,\n",
              " 325,\n",
              " 155,\n",
              " 310,\n",
              " 610,\n",
              " 1615,\n",
              " 435,\n",
              " 490,\n",
              " 175,\n",
              " 315,\n",
              " 140,\n",
              " 85,\n",
              " 290,\n",
              " 140,\n",
              " 140,\n",
              " 795,\n",
              " 1150,\n",
              " 1360,\n",
              " 890,\n",
              " 910,\n",
              " 425,\n",
              " 85,\n",
              " 175,\n",
              " 480,\n",
              " 165,\n",
              " 895,\n",
              " 90,\n",
              " 975,\n",
              " 170,\n",
              " 300,\n",
              " 1335,\n",
              " 330,\n",
              " 515,\n",
              " 925,\n",
              " 1260,\n",
              " 810,\n",
              " 170,\n",
              " 405,\n",
              " 90,\n",
              " 520,\n",
              " 90,\n",
              " 170,\n",
              " 155,\n",
              " 965,\n",
              " 1430,\n",
              " 1625,\n",
              " 975,\n",
              " 925,\n",
              " 170,\n",
              " 515,\n",
              " 830,\n",
              " 160,\n",
              " 145,\n",
              " 190,\n",
              " 175,\n",
              " 1720,\n",
              " 170,\n",
              " 155,\n",
              " 580,\n",
              " 1000,\n",
              " 380,\n",
              " 1620,\n",
              " 875,\n",
              " 730,\n",
              " 455,\n",
              " 140,\n",
              " 1150,\n",
              " 1200,\n",
              " 180,\n",
              " 310,\n",
              " 160,\n",
              " 1775,\n",
              " 295,\n",
              " 180,\n",
              " 750,\n",
              " 755,\n",
              " 1580,\n",
              " 795,\n",
              " 170,\n",
              " 765,\n",
              " 980,\n",
              " 160,\n",
              " 495,\n",
              " 720,\n",
              " 170,\n",
              " 660,\n",
              " 140,\n",
              " 830,\n",
              " 490,\n",
              " 730,\n",
              " 160,\n",
              " 165,\n",
              " 170,\n",
              " 1440,\n",
              " 180,\n",
              " 755,\n",
              " 1550,\n",
              " 175,\n",
              " 1025,\n",
              " 1760,\n",
              " 535,\n",
              " 185,\n",
              " 540,\n",
              " 625,\n",
              " 1005,\n",
              " 165,\n",
              " 1580,\n",
              " 795,\n",
              " 630,\n",
              " 455,\n",
              " 660,\n",
              " 170,\n",
              " 1545,\n",
              " 385,\n",
              " 85,\n",
              " 1210,\n",
              " 715,\n",
              " 170,\n",
              " 300,\n",
              " 1620,\n",
              " 170,\n",
              " 75,\n",
              " 615,\n",
              " 1490,\n",
              " 170,\n",
              " 1200,\n",
              " 330,\n",
              " 165,\n",
              " 415,\n",
              " 165,\n",
              " 315,\n",
              " 375,\n",
              " 170,\n",
              " 1165,\n",
              " 175,\n",
              " 685,\n",
              " 845,\n",
              " 165,\n",
              " 195,\n",
              " 860,\n",
              " 750,\n",
              " 320,\n",
              " 1580,\n",
              " 185,\n",
              " 90,\n",
              " 425,\n",
              " 370,\n",
              " 480,\n",
              " 725,\n",
              " 775,\n",
              " 575,\n",
              " 910,\n",
              " 700,\n",
              " 175,\n",
              " 270,\n",
              " 160,\n",
              " 150,\n",
              " 1450,\n",
              " 1700,\n",
              " 85,\n",
              " 610,\n",
              " 690,\n",
              " 170,\n",
              " 825,\n",
              " 385,\n",
              " 775,\n",
              " 265,\n",
              " 810,\n",
              " 1445,\n",
              " 965,\n",
              " 500,\n",
              " 220,\n",
              " 570,\n",
              " 1695,\n",
              " 800,\n",
              " 1070,\n",
              " 1220,\n",
              " 1685,\n",
              " 925,\n",
              " 725,\n",
              " 620,\n",
              " 745,\n",
              " 455,\n",
              " 170,\n",
              " 275,\n",
              " 675,\n",
              " 155,\n",
              " 1560,\n",
              " 145,\n",
              " 155,\n",
              " 855,\n",
              " 155,\n",
              " 1325,\n",
              " 395,\n",
              " 510,\n",
              " 1125,\n",
              " 2115,\n",
              " 135,\n",
              " 150,\n",
              " 140,\n",
              " 150,\n",
              " 455,\n",
              " 2135,\n",
              " 1590,\n",
              " 690,\n",
              " 1600,\n",
              " 180,\n",
              " 90,\n",
              " 175,\n",
              " 855,\n",
              " 1015,\n",
              " 740,\n",
              " 1775,\n",
              " 1220,\n",
              " 505,\n",
              " 830,\n",
              " 600,\n",
              " 1165,\n",
              " 1680,\n",
              " 170,\n",
              " 1040,\n",
              " 165,\n",
              " 175,\n",
              " 805,\n",
              " 775,\n",
              " 585,\n",
              " 1285,\n",
              " 940,\n",
              " 140,\n",
              " 865,\n",
              " 170,\n",
              " 395,\n",
              " 1330,\n",
              " 865,\n",
              " 150,\n",
              " 1415,\n",
              " 785,\n",
              " 90,\n",
              " 305,\n",
              " 80,\n",
              " 1375,\n",
              " 90,\n",
              " 155,\n",
              " 2240,\n",
              " 170,\n",
              " 170,\n",
              " 2170,\n",
              " 555,\n",
              " 85,\n",
              " 305,\n",
              " 135,\n",
              " 910,\n",
              " 1555,\n",
              " 340,\n",
              " 450,\n",
              " 1065,\n",
              " 140,\n",
              " 495,\n",
              " 220,\n",
              " 355,\n",
              " 150,\n",
              " 1050,\n",
              " 830,\n",
              " 135,\n",
              " 1295,\n",
              " 570,\n",
              " 520,\n",
              " 625,\n",
              " 2105,\n",
              " 855,\n",
              " 180,\n",
              " 1550,\n",
              " 150,\n",
              " 520,\n",
              " 600,\n",
              " 690,\n",
              " 450,\n",
              " ...]"
            ]
          },
          "metadata": {
            "tags": []
          },
          "execution_count": 75
        }
      ]
    },
    {
      "cell_type": "code",
      "metadata": {
        "id": "Tiw4HSNZGZOW",
        "colab_type": "code",
        "colab": {}
      },
      "source": [
        "train_data['Duration']=duration_min"
      ],
      "execution_count": 76,
      "outputs": []
    },
    {
      "cell_type": "code",
      "metadata": {
        "id": "zZa73DxVGh0z",
        "colab_type": "code",
        "colab": {
          "base_uri": "https://localhost:8080/",
          "height": 195
        },
        "outputId": "a3972727-414c-4d9e-e2dd-68ac947b5b65"
      },
      "source": [
        "train_data.head()"
      ],
      "execution_count": 77,
      "outputs": [
        {
          "output_type": "execute_result",
          "data": {
            "text/html": [
              "<div>\n",
              "<style scoped>\n",
              "    .dataframe tbody tr th:only-of-type {\n",
              "        vertical-align: middle;\n",
              "    }\n",
              "\n",
              "    .dataframe tbody tr th {\n",
              "        vertical-align: top;\n",
              "    }\n",
              "\n",
              "    .dataframe thead th {\n",
              "        text-align: right;\n",
              "    }\n",
              "</style>\n",
              "<table border=\"1\" class=\"dataframe\">\n",
              "  <thead>\n",
              "    <tr style=\"text-align: right;\">\n",
              "      <th></th>\n",
              "      <th>Duration</th>\n",
              "      <th>Total_Stops</th>\n",
              "      <th>Price</th>\n",
              "      <th>journey_month</th>\n",
              "      <th>journey_day</th>\n",
              "      <th>dep_hour</th>\n",
              "      <th>dep_minute</th>\n",
              "      <th>arr_hour</th>\n",
              "      <th>arr_minute</th>\n",
              "    </tr>\n",
              "  </thead>\n",
              "  <tbody>\n",
              "    <tr>\n",
              "      <th>0</th>\n",
              "      <td>170</td>\n",
              "      <td>0</td>\n",
              "      <td>3897</td>\n",
              "      <td>3</td>\n",
              "      <td>24</td>\n",
              "      <td>22</td>\n",
              "      <td>20</td>\n",
              "      <td>1</td>\n",
              "      <td>10</td>\n",
              "    </tr>\n",
              "    <tr>\n",
              "      <th>1</th>\n",
              "      <td>445</td>\n",
              "      <td>2</td>\n",
              "      <td>7662</td>\n",
              "      <td>1</td>\n",
              "      <td>5</td>\n",
              "      <td>5</td>\n",
              "      <td>50</td>\n",
              "      <td>13</td>\n",
              "      <td>15</td>\n",
              "    </tr>\n",
              "    <tr>\n",
              "      <th>2</th>\n",
              "      <td>1140</td>\n",
              "      <td>2</td>\n",
              "      <td>13882</td>\n",
              "      <td>9</td>\n",
              "      <td>6</td>\n",
              "      <td>9</td>\n",
              "      <td>25</td>\n",
              "      <td>4</td>\n",
              "      <td>25</td>\n",
              "    </tr>\n",
              "    <tr>\n",
              "      <th>3</th>\n",
              "      <td>325</td>\n",
              "      <td>1</td>\n",
              "      <td>6218</td>\n",
              "      <td>12</td>\n",
              "      <td>5</td>\n",
              "      <td>18</td>\n",
              "      <td>5</td>\n",
              "      <td>23</td>\n",
              "      <td>30</td>\n",
              "    </tr>\n",
              "    <tr>\n",
              "      <th>4</th>\n",
              "      <td>285</td>\n",
              "      <td>1</td>\n",
              "      <td>13302</td>\n",
              "      <td>1</td>\n",
              "      <td>3</td>\n",
              "      <td>16</td>\n",
              "      <td>50</td>\n",
              "      <td>21</td>\n",
              "      <td>35</td>\n",
              "    </tr>\n",
              "  </tbody>\n",
              "</table>\n",
              "</div>"
            ],
            "text/plain": [
              "   Duration  Total_Stops  Price  ...  dep_minute  arr_hour  arr_minute\n",
              "0       170            0   3897  ...          20         1          10\n",
              "1       445            2   7662  ...          50        13          15\n",
              "2      1140            2  13882  ...          25         4          25\n",
              "3       325            1   6218  ...           5        23          30\n",
              "4       285            1  13302  ...          50        21          35\n",
              "\n",
              "[5 rows x 9 columns]"
            ]
          },
          "metadata": {
            "tags": []
          },
          "execution_count": 77
        }
      ]
    },
    {
      "cell_type": "code",
      "metadata": {
        "id": "jVwt1YMOGkTy",
        "colab_type": "code",
        "colab": {}
      },
      "source": [
        "data=pd.concat([train_data,airline_hot,source_hot,destination_hot],axis=1)"
      ],
      "execution_count": 82,
      "outputs": []
    },
    {
      "cell_type": "code",
      "metadata": {
        "id": "eZmYjT8eG7TH",
        "colab_type": "code",
        "colab": {
          "base_uri": "https://localhost:8080/",
          "height": 266
        },
        "outputId": "eb3605f9-92db-4eaa-93fb-0cb7e6883c15"
      },
      "source": [
        "data.head()"
      ],
      "execution_count": 83,
      "outputs": [
        {
          "output_type": "execute_result",
          "data": {
            "text/html": [
              "<div>\n",
              "<style scoped>\n",
              "    .dataframe tbody tr th:only-of-type {\n",
              "        vertical-align: middle;\n",
              "    }\n",
              "\n",
              "    .dataframe tbody tr th {\n",
              "        vertical-align: top;\n",
              "    }\n",
              "\n",
              "    .dataframe thead th {\n",
              "        text-align: right;\n",
              "    }\n",
              "</style>\n",
              "<table border=\"1\" class=\"dataframe\">\n",
              "  <thead>\n",
              "    <tr style=\"text-align: right;\">\n",
              "      <th></th>\n",
              "      <th>Duration</th>\n",
              "      <th>Total_Stops</th>\n",
              "      <th>Price</th>\n",
              "      <th>journey_month</th>\n",
              "      <th>journey_day</th>\n",
              "      <th>dep_hour</th>\n",
              "      <th>dep_minute</th>\n",
              "      <th>arr_hour</th>\n",
              "      <th>arr_minute</th>\n",
              "      <th>Air India</th>\n",
              "      <th>GoAir</th>\n",
              "      <th>IndiGo</th>\n",
              "      <th>Jet Airways</th>\n",
              "      <th>Jet Airways Business</th>\n",
              "      <th>Multiple carriers</th>\n",
              "      <th>Multiple carriers Premium economy</th>\n",
              "      <th>SpiceJet</th>\n",
              "      <th>Trujet</th>\n",
              "      <th>Vistara</th>\n",
              "      <th>Vistara Premium economy</th>\n",
              "      <th>source_Banglore</th>\n",
              "      <th>source_Chennai</th>\n",
              "      <th>source_Delhi</th>\n",
              "      <th>source_Kolkata</th>\n",
              "      <th>source_Mumbai</th>\n",
              "      <th>destination_Banglore</th>\n",
              "      <th>destination_Cochin</th>\n",
              "      <th>destination_Delhi</th>\n",
              "      <th>destination_Hyderabad</th>\n",
              "      <th>destination_Kolkata</th>\n",
              "      <th>destination_New Delhi</th>\n",
              "    </tr>\n",
              "  </thead>\n",
              "  <tbody>\n",
              "    <tr>\n",
              "      <th>0</th>\n",
              "      <td>170</td>\n",
              "      <td>0</td>\n",
              "      <td>3897</td>\n",
              "      <td>3</td>\n",
              "      <td>24</td>\n",
              "      <td>22</td>\n",
              "      <td>20</td>\n",
              "      <td>1</td>\n",
              "      <td>10</td>\n",
              "      <td>0</td>\n",
              "      <td>0</td>\n",
              "      <td>1</td>\n",
              "      <td>0</td>\n",
              "      <td>0</td>\n",
              "      <td>0</td>\n",
              "      <td>0</td>\n",
              "      <td>0</td>\n",
              "      <td>0</td>\n",
              "      <td>0</td>\n",
              "      <td>0</td>\n",
              "      <td>1</td>\n",
              "      <td>0</td>\n",
              "      <td>0</td>\n",
              "      <td>0</td>\n",
              "      <td>0</td>\n",
              "      <td>0</td>\n",
              "      <td>0</td>\n",
              "      <td>0</td>\n",
              "      <td>0</td>\n",
              "      <td>0</td>\n",
              "      <td>1</td>\n",
              "    </tr>\n",
              "    <tr>\n",
              "      <th>1</th>\n",
              "      <td>445</td>\n",
              "      <td>2</td>\n",
              "      <td>7662</td>\n",
              "      <td>1</td>\n",
              "      <td>5</td>\n",
              "      <td>5</td>\n",
              "      <td>50</td>\n",
              "      <td>13</td>\n",
              "      <td>15</td>\n",
              "      <td>1</td>\n",
              "      <td>0</td>\n",
              "      <td>0</td>\n",
              "      <td>0</td>\n",
              "      <td>0</td>\n",
              "      <td>0</td>\n",
              "      <td>0</td>\n",
              "      <td>0</td>\n",
              "      <td>0</td>\n",
              "      <td>0</td>\n",
              "      <td>0</td>\n",
              "      <td>0</td>\n",
              "      <td>0</td>\n",
              "      <td>0</td>\n",
              "      <td>1</td>\n",
              "      <td>0</td>\n",
              "      <td>1</td>\n",
              "      <td>0</td>\n",
              "      <td>0</td>\n",
              "      <td>0</td>\n",
              "      <td>0</td>\n",
              "      <td>0</td>\n",
              "    </tr>\n",
              "    <tr>\n",
              "      <th>2</th>\n",
              "      <td>1140</td>\n",
              "      <td>2</td>\n",
              "      <td>13882</td>\n",
              "      <td>9</td>\n",
              "      <td>6</td>\n",
              "      <td>9</td>\n",
              "      <td>25</td>\n",
              "      <td>4</td>\n",
              "      <td>25</td>\n",
              "      <td>0</td>\n",
              "      <td>0</td>\n",
              "      <td>0</td>\n",
              "      <td>1</td>\n",
              "      <td>0</td>\n",
              "      <td>0</td>\n",
              "      <td>0</td>\n",
              "      <td>0</td>\n",
              "      <td>0</td>\n",
              "      <td>0</td>\n",
              "      <td>0</td>\n",
              "      <td>0</td>\n",
              "      <td>0</td>\n",
              "      <td>1</td>\n",
              "      <td>0</td>\n",
              "      <td>0</td>\n",
              "      <td>0</td>\n",
              "      <td>1</td>\n",
              "      <td>0</td>\n",
              "      <td>0</td>\n",
              "      <td>0</td>\n",
              "      <td>0</td>\n",
              "    </tr>\n",
              "    <tr>\n",
              "      <th>3</th>\n",
              "      <td>325</td>\n",
              "      <td>1</td>\n",
              "      <td>6218</td>\n",
              "      <td>12</td>\n",
              "      <td>5</td>\n",
              "      <td>18</td>\n",
              "      <td>5</td>\n",
              "      <td>23</td>\n",
              "      <td>30</td>\n",
              "      <td>0</td>\n",
              "      <td>0</td>\n",
              "      <td>1</td>\n",
              "      <td>0</td>\n",
              "      <td>0</td>\n",
              "      <td>0</td>\n",
              "      <td>0</td>\n",
              "      <td>0</td>\n",
              "      <td>0</td>\n",
              "      <td>0</td>\n",
              "      <td>0</td>\n",
              "      <td>0</td>\n",
              "      <td>0</td>\n",
              "      <td>0</td>\n",
              "      <td>1</td>\n",
              "      <td>0</td>\n",
              "      <td>1</td>\n",
              "      <td>0</td>\n",
              "      <td>0</td>\n",
              "      <td>0</td>\n",
              "      <td>0</td>\n",
              "      <td>0</td>\n",
              "    </tr>\n",
              "    <tr>\n",
              "      <th>4</th>\n",
              "      <td>285</td>\n",
              "      <td>1</td>\n",
              "      <td>13302</td>\n",
              "      <td>1</td>\n",
              "      <td>3</td>\n",
              "      <td>16</td>\n",
              "      <td>50</td>\n",
              "      <td>21</td>\n",
              "      <td>35</td>\n",
              "      <td>0</td>\n",
              "      <td>0</td>\n",
              "      <td>1</td>\n",
              "      <td>0</td>\n",
              "      <td>0</td>\n",
              "      <td>0</td>\n",
              "      <td>0</td>\n",
              "      <td>0</td>\n",
              "      <td>0</td>\n",
              "      <td>0</td>\n",
              "      <td>0</td>\n",
              "      <td>1</td>\n",
              "      <td>0</td>\n",
              "      <td>0</td>\n",
              "      <td>0</td>\n",
              "      <td>0</td>\n",
              "      <td>0</td>\n",
              "      <td>0</td>\n",
              "      <td>0</td>\n",
              "      <td>0</td>\n",
              "      <td>0</td>\n",
              "      <td>1</td>\n",
              "    </tr>\n",
              "  </tbody>\n",
              "</table>\n",
              "</div>"
            ],
            "text/plain": [
              "   Duration  Total_Stops  ...  destination_Kolkata  destination_New Delhi\n",
              "0       170            0  ...                    0                      1\n",
              "1       445            2  ...                    0                      0\n",
              "2      1140            2  ...                    0                      0\n",
              "3       325            1  ...                    0                      0\n",
              "4       285            1  ...                    0                      1\n",
              "\n",
              "[5 rows x 31 columns]"
            ]
          },
          "metadata": {
            "tags": []
          },
          "execution_count": 83
        }
      ]
    },
    {
      "cell_type": "code",
      "metadata": {
        "id": "LY1l0hMzG8wR",
        "colab_type": "code",
        "colab": {
          "base_uri": "https://localhost:8080/",
          "height": 185
        },
        "outputId": "99b9e23a-6d71-4fa5-86d4-b86b3a2f1bc5"
      },
      "source": [
        "data.columns"
      ],
      "execution_count": 84,
      "outputs": [
        {
          "output_type": "execute_result",
          "data": {
            "text/plain": [
              "Index(['Duration', 'Total_Stops', 'Price', 'journey_month', 'journey_day',\n",
              "       'dep_hour', 'dep_minute', 'arr_hour', 'arr_minute', 'Air India',\n",
              "       'GoAir', 'IndiGo', 'Jet Airways', 'Jet Airways Business',\n",
              "       'Multiple carriers', 'Multiple carriers Premium economy', 'SpiceJet',\n",
              "       'Trujet', 'Vistara', 'Vistara Premium economy', 'source_Banglore',\n",
              "       'source_Chennai', 'source_Delhi', 'source_Kolkata', 'source_Mumbai',\n",
              "       'destination_Banglore', 'destination_Cochin', 'destination_Delhi',\n",
              "       'destination_Hyderabad', 'destination_Kolkata',\n",
              "       'destination_New Delhi'],\n",
              "      dtype='object')"
            ]
          },
          "metadata": {
            "tags": []
          },
          "execution_count": 84
        }
      ]
    },
    {
      "cell_type": "code",
      "metadata": {
        "id": "iFYGdsn4Hctz",
        "colab_type": "code",
        "colab": {}
      },
      "source": [
        "price=data['Price']\n",
        "data.drop('Price',axis=1,inplace=True)"
      ],
      "execution_count": 85,
      "outputs": []
    },
    {
      "cell_type": "code",
      "metadata": {
        "id": "0C7iG_AYHsGH",
        "colab_type": "code",
        "colab": {
          "base_uri": "https://localhost:8080/",
          "height": 266
        },
        "outputId": "e4e63c6a-c757-4ff4-ae8b-2d2640f05fec"
      },
      "source": [
        "data.head()"
      ],
      "execution_count": 86,
      "outputs": [
        {
          "output_type": "execute_result",
          "data": {
            "text/html": [
              "<div>\n",
              "<style scoped>\n",
              "    .dataframe tbody tr th:only-of-type {\n",
              "        vertical-align: middle;\n",
              "    }\n",
              "\n",
              "    .dataframe tbody tr th {\n",
              "        vertical-align: top;\n",
              "    }\n",
              "\n",
              "    .dataframe thead th {\n",
              "        text-align: right;\n",
              "    }\n",
              "</style>\n",
              "<table border=\"1\" class=\"dataframe\">\n",
              "  <thead>\n",
              "    <tr style=\"text-align: right;\">\n",
              "      <th></th>\n",
              "      <th>Duration</th>\n",
              "      <th>Total_Stops</th>\n",
              "      <th>journey_month</th>\n",
              "      <th>journey_day</th>\n",
              "      <th>dep_hour</th>\n",
              "      <th>dep_minute</th>\n",
              "      <th>arr_hour</th>\n",
              "      <th>arr_minute</th>\n",
              "      <th>Air India</th>\n",
              "      <th>GoAir</th>\n",
              "      <th>IndiGo</th>\n",
              "      <th>Jet Airways</th>\n",
              "      <th>Jet Airways Business</th>\n",
              "      <th>Multiple carriers</th>\n",
              "      <th>Multiple carriers Premium economy</th>\n",
              "      <th>SpiceJet</th>\n",
              "      <th>Trujet</th>\n",
              "      <th>Vistara</th>\n",
              "      <th>Vistara Premium economy</th>\n",
              "      <th>source_Banglore</th>\n",
              "      <th>source_Chennai</th>\n",
              "      <th>source_Delhi</th>\n",
              "      <th>source_Kolkata</th>\n",
              "      <th>source_Mumbai</th>\n",
              "      <th>destination_Banglore</th>\n",
              "      <th>destination_Cochin</th>\n",
              "      <th>destination_Delhi</th>\n",
              "      <th>destination_Hyderabad</th>\n",
              "      <th>destination_Kolkata</th>\n",
              "      <th>destination_New Delhi</th>\n",
              "    </tr>\n",
              "  </thead>\n",
              "  <tbody>\n",
              "    <tr>\n",
              "      <th>0</th>\n",
              "      <td>170</td>\n",
              "      <td>0</td>\n",
              "      <td>3</td>\n",
              "      <td>24</td>\n",
              "      <td>22</td>\n",
              "      <td>20</td>\n",
              "      <td>1</td>\n",
              "      <td>10</td>\n",
              "      <td>0</td>\n",
              "      <td>0</td>\n",
              "      <td>1</td>\n",
              "      <td>0</td>\n",
              "      <td>0</td>\n",
              "      <td>0</td>\n",
              "      <td>0</td>\n",
              "      <td>0</td>\n",
              "      <td>0</td>\n",
              "      <td>0</td>\n",
              "      <td>0</td>\n",
              "      <td>1</td>\n",
              "      <td>0</td>\n",
              "      <td>0</td>\n",
              "      <td>0</td>\n",
              "      <td>0</td>\n",
              "      <td>0</td>\n",
              "      <td>0</td>\n",
              "      <td>0</td>\n",
              "      <td>0</td>\n",
              "      <td>0</td>\n",
              "      <td>1</td>\n",
              "    </tr>\n",
              "    <tr>\n",
              "      <th>1</th>\n",
              "      <td>445</td>\n",
              "      <td>2</td>\n",
              "      <td>1</td>\n",
              "      <td>5</td>\n",
              "      <td>5</td>\n",
              "      <td>50</td>\n",
              "      <td>13</td>\n",
              "      <td>15</td>\n",
              "      <td>1</td>\n",
              "      <td>0</td>\n",
              "      <td>0</td>\n",
              "      <td>0</td>\n",
              "      <td>0</td>\n",
              "      <td>0</td>\n",
              "      <td>0</td>\n",
              "      <td>0</td>\n",
              "      <td>0</td>\n",
              "      <td>0</td>\n",
              "      <td>0</td>\n",
              "      <td>0</td>\n",
              "      <td>0</td>\n",
              "      <td>0</td>\n",
              "      <td>1</td>\n",
              "      <td>0</td>\n",
              "      <td>1</td>\n",
              "      <td>0</td>\n",
              "      <td>0</td>\n",
              "      <td>0</td>\n",
              "      <td>0</td>\n",
              "      <td>0</td>\n",
              "    </tr>\n",
              "    <tr>\n",
              "      <th>2</th>\n",
              "      <td>1140</td>\n",
              "      <td>2</td>\n",
              "      <td>9</td>\n",
              "      <td>6</td>\n",
              "      <td>9</td>\n",
              "      <td>25</td>\n",
              "      <td>4</td>\n",
              "      <td>25</td>\n",
              "      <td>0</td>\n",
              "      <td>0</td>\n",
              "      <td>0</td>\n",
              "      <td>1</td>\n",
              "      <td>0</td>\n",
              "      <td>0</td>\n",
              "      <td>0</td>\n",
              "      <td>0</td>\n",
              "      <td>0</td>\n",
              "      <td>0</td>\n",
              "      <td>0</td>\n",
              "      <td>0</td>\n",
              "      <td>0</td>\n",
              "      <td>1</td>\n",
              "      <td>0</td>\n",
              "      <td>0</td>\n",
              "      <td>0</td>\n",
              "      <td>1</td>\n",
              "      <td>0</td>\n",
              "      <td>0</td>\n",
              "      <td>0</td>\n",
              "      <td>0</td>\n",
              "    </tr>\n",
              "    <tr>\n",
              "      <th>3</th>\n",
              "      <td>325</td>\n",
              "      <td>1</td>\n",
              "      <td>12</td>\n",
              "      <td>5</td>\n",
              "      <td>18</td>\n",
              "      <td>5</td>\n",
              "      <td>23</td>\n",
              "      <td>30</td>\n",
              "      <td>0</td>\n",
              "      <td>0</td>\n",
              "      <td>1</td>\n",
              "      <td>0</td>\n",
              "      <td>0</td>\n",
              "      <td>0</td>\n",
              "      <td>0</td>\n",
              "      <td>0</td>\n",
              "      <td>0</td>\n",
              "      <td>0</td>\n",
              "      <td>0</td>\n",
              "      <td>0</td>\n",
              "      <td>0</td>\n",
              "      <td>0</td>\n",
              "      <td>1</td>\n",
              "      <td>0</td>\n",
              "      <td>1</td>\n",
              "      <td>0</td>\n",
              "      <td>0</td>\n",
              "      <td>0</td>\n",
              "      <td>0</td>\n",
              "      <td>0</td>\n",
              "    </tr>\n",
              "    <tr>\n",
              "      <th>4</th>\n",
              "      <td>285</td>\n",
              "      <td>1</td>\n",
              "      <td>1</td>\n",
              "      <td>3</td>\n",
              "      <td>16</td>\n",
              "      <td>50</td>\n",
              "      <td>21</td>\n",
              "      <td>35</td>\n",
              "      <td>0</td>\n",
              "      <td>0</td>\n",
              "      <td>1</td>\n",
              "      <td>0</td>\n",
              "      <td>0</td>\n",
              "      <td>0</td>\n",
              "      <td>0</td>\n",
              "      <td>0</td>\n",
              "      <td>0</td>\n",
              "      <td>0</td>\n",
              "      <td>0</td>\n",
              "      <td>1</td>\n",
              "      <td>0</td>\n",
              "      <td>0</td>\n",
              "      <td>0</td>\n",
              "      <td>0</td>\n",
              "      <td>0</td>\n",
              "      <td>0</td>\n",
              "      <td>0</td>\n",
              "      <td>0</td>\n",
              "      <td>0</td>\n",
              "      <td>1</td>\n",
              "    </tr>\n",
              "  </tbody>\n",
              "</table>\n",
              "</div>"
            ],
            "text/plain": [
              "   Duration  Total_Stops  ...  destination_Kolkata  destination_New Delhi\n",
              "0       170            0  ...                    0                      1\n",
              "1       445            2  ...                    0                      0\n",
              "2      1140            2  ...                    0                      0\n",
              "3       325            1  ...                    0                      0\n",
              "4       285            1  ...                    0                      1\n",
              "\n",
              "[5 rows x 30 columns]"
            ]
          },
          "metadata": {
            "tags": []
          },
          "execution_count": 86
        }
      ]
    },
    {
      "cell_type": "code",
      "metadata": {
        "id": "ZSxX3CYbHwPX",
        "colab_type": "code",
        "colab": {}
      },
      "source": [
        "features=data.iloc[:,:]"
      ],
      "execution_count": 87,
      "outputs": []
    },
    {
      "cell_type": "code",
      "metadata": {
        "id": "pqkoflaDH--3",
        "colab_type": "code",
        "colab": {
          "base_uri": "https://localhost:8080/",
          "height": 472
        },
        "outputId": "15670bc5-451c-401b-d512-bd92622cd7bb"
      },
      "source": [
        "features"
      ],
      "execution_count": 88,
      "outputs": [
        {
          "output_type": "execute_result",
          "data": {
            "text/html": [
              "<div>\n",
              "<style scoped>\n",
              "    .dataframe tbody tr th:only-of-type {\n",
              "        vertical-align: middle;\n",
              "    }\n",
              "\n",
              "    .dataframe tbody tr th {\n",
              "        vertical-align: top;\n",
              "    }\n",
              "\n",
              "    .dataframe thead th {\n",
              "        text-align: right;\n",
              "    }\n",
              "</style>\n",
              "<table border=\"1\" class=\"dataframe\">\n",
              "  <thead>\n",
              "    <tr style=\"text-align: right;\">\n",
              "      <th></th>\n",
              "      <th>Duration</th>\n",
              "      <th>Total_Stops</th>\n",
              "      <th>journey_month</th>\n",
              "      <th>journey_day</th>\n",
              "      <th>dep_hour</th>\n",
              "      <th>dep_minute</th>\n",
              "      <th>arr_hour</th>\n",
              "      <th>arr_minute</th>\n",
              "      <th>Air India</th>\n",
              "      <th>GoAir</th>\n",
              "      <th>IndiGo</th>\n",
              "      <th>Jet Airways</th>\n",
              "      <th>Jet Airways Business</th>\n",
              "      <th>Multiple carriers</th>\n",
              "      <th>Multiple carriers Premium economy</th>\n",
              "      <th>SpiceJet</th>\n",
              "      <th>Trujet</th>\n",
              "      <th>Vistara</th>\n",
              "      <th>Vistara Premium economy</th>\n",
              "      <th>source_Banglore</th>\n",
              "      <th>source_Chennai</th>\n",
              "      <th>source_Delhi</th>\n",
              "      <th>source_Kolkata</th>\n",
              "      <th>source_Mumbai</th>\n",
              "      <th>destination_Banglore</th>\n",
              "      <th>destination_Cochin</th>\n",
              "      <th>destination_Delhi</th>\n",
              "      <th>destination_Hyderabad</th>\n",
              "      <th>destination_Kolkata</th>\n",
              "      <th>destination_New Delhi</th>\n",
              "    </tr>\n",
              "  </thead>\n",
              "  <tbody>\n",
              "    <tr>\n",
              "      <th>0</th>\n",
              "      <td>170</td>\n",
              "      <td>0</td>\n",
              "      <td>3</td>\n",
              "      <td>24</td>\n",
              "      <td>22</td>\n",
              "      <td>20</td>\n",
              "      <td>1</td>\n",
              "      <td>10</td>\n",
              "      <td>0</td>\n",
              "      <td>0</td>\n",
              "      <td>1</td>\n",
              "      <td>0</td>\n",
              "      <td>0</td>\n",
              "      <td>0</td>\n",
              "      <td>0</td>\n",
              "      <td>0</td>\n",
              "      <td>0</td>\n",
              "      <td>0</td>\n",
              "      <td>0</td>\n",
              "      <td>1</td>\n",
              "      <td>0</td>\n",
              "      <td>0</td>\n",
              "      <td>0</td>\n",
              "      <td>0</td>\n",
              "      <td>0</td>\n",
              "      <td>0</td>\n",
              "      <td>0</td>\n",
              "      <td>0</td>\n",
              "      <td>0</td>\n",
              "      <td>1</td>\n",
              "    </tr>\n",
              "    <tr>\n",
              "      <th>1</th>\n",
              "      <td>445</td>\n",
              "      <td>2</td>\n",
              "      <td>1</td>\n",
              "      <td>5</td>\n",
              "      <td>5</td>\n",
              "      <td>50</td>\n",
              "      <td>13</td>\n",
              "      <td>15</td>\n",
              "      <td>1</td>\n",
              "      <td>0</td>\n",
              "      <td>0</td>\n",
              "      <td>0</td>\n",
              "      <td>0</td>\n",
              "      <td>0</td>\n",
              "      <td>0</td>\n",
              "      <td>0</td>\n",
              "      <td>0</td>\n",
              "      <td>0</td>\n",
              "      <td>0</td>\n",
              "      <td>0</td>\n",
              "      <td>0</td>\n",
              "      <td>0</td>\n",
              "      <td>1</td>\n",
              "      <td>0</td>\n",
              "      <td>1</td>\n",
              "      <td>0</td>\n",
              "      <td>0</td>\n",
              "      <td>0</td>\n",
              "      <td>0</td>\n",
              "      <td>0</td>\n",
              "    </tr>\n",
              "    <tr>\n",
              "      <th>2</th>\n",
              "      <td>1140</td>\n",
              "      <td>2</td>\n",
              "      <td>9</td>\n",
              "      <td>6</td>\n",
              "      <td>9</td>\n",
              "      <td>25</td>\n",
              "      <td>4</td>\n",
              "      <td>25</td>\n",
              "      <td>0</td>\n",
              "      <td>0</td>\n",
              "      <td>0</td>\n",
              "      <td>1</td>\n",
              "      <td>0</td>\n",
              "      <td>0</td>\n",
              "      <td>0</td>\n",
              "      <td>0</td>\n",
              "      <td>0</td>\n",
              "      <td>0</td>\n",
              "      <td>0</td>\n",
              "      <td>0</td>\n",
              "      <td>0</td>\n",
              "      <td>1</td>\n",
              "      <td>0</td>\n",
              "      <td>0</td>\n",
              "      <td>0</td>\n",
              "      <td>1</td>\n",
              "      <td>0</td>\n",
              "      <td>0</td>\n",
              "      <td>0</td>\n",
              "      <td>0</td>\n",
              "    </tr>\n",
              "    <tr>\n",
              "      <th>3</th>\n",
              "      <td>325</td>\n",
              "      <td>1</td>\n",
              "      <td>12</td>\n",
              "      <td>5</td>\n",
              "      <td>18</td>\n",
              "      <td>5</td>\n",
              "      <td>23</td>\n",
              "      <td>30</td>\n",
              "      <td>0</td>\n",
              "      <td>0</td>\n",
              "      <td>1</td>\n",
              "      <td>0</td>\n",
              "      <td>0</td>\n",
              "      <td>0</td>\n",
              "      <td>0</td>\n",
              "      <td>0</td>\n",
              "      <td>0</td>\n",
              "      <td>0</td>\n",
              "      <td>0</td>\n",
              "      <td>0</td>\n",
              "      <td>0</td>\n",
              "      <td>0</td>\n",
              "      <td>1</td>\n",
              "      <td>0</td>\n",
              "      <td>1</td>\n",
              "      <td>0</td>\n",
              "      <td>0</td>\n",
              "      <td>0</td>\n",
              "      <td>0</td>\n",
              "      <td>0</td>\n",
              "    </tr>\n",
              "    <tr>\n",
              "      <th>4</th>\n",
              "      <td>285</td>\n",
              "      <td>1</td>\n",
              "      <td>1</td>\n",
              "      <td>3</td>\n",
              "      <td>16</td>\n",
              "      <td>50</td>\n",
              "      <td>21</td>\n",
              "      <td>35</td>\n",
              "      <td>0</td>\n",
              "      <td>0</td>\n",
              "      <td>1</td>\n",
              "      <td>0</td>\n",
              "      <td>0</td>\n",
              "      <td>0</td>\n",
              "      <td>0</td>\n",
              "      <td>0</td>\n",
              "      <td>0</td>\n",
              "      <td>0</td>\n",
              "      <td>0</td>\n",
              "      <td>1</td>\n",
              "      <td>0</td>\n",
              "      <td>0</td>\n",
              "      <td>0</td>\n",
              "      <td>0</td>\n",
              "      <td>0</td>\n",
              "      <td>0</td>\n",
              "      <td>0</td>\n",
              "      <td>0</td>\n",
              "      <td>0</td>\n",
              "      <td>1</td>\n",
              "    </tr>\n",
              "    <tr>\n",
              "      <th>...</th>\n",
              "      <td>...</td>\n",
              "      <td>...</td>\n",
              "      <td>...</td>\n",
              "      <td>...</td>\n",
              "      <td>...</td>\n",
              "      <td>...</td>\n",
              "      <td>...</td>\n",
              "      <td>...</td>\n",
              "      <td>...</td>\n",
              "      <td>...</td>\n",
              "      <td>...</td>\n",
              "      <td>...</td>\n",
              "      <td>...</td>\n",
              "      <td>...</td>\n",
              "      <td>...</td>\n",
              "      <td>...</td>\n",
              "      <td>...</td>\n",
              "      <td>...</td>\n",
              "      <td>...</td>\n",
              "      <td>...</td>\n",
              "      <td>...</td>\n",
              "      <td>...</td>\n",
              "      <td>...</td>\n",
              "      <td>...</td>\n",
              "      <td>...</td>\n",
              "      <td>...</td>\n",
              "      <td>...</td>\n",
              "      <td>...</td>\n",
              "      <td>...</td>\n",
              "      <td>...</td>\n",
              "    </tr>\n",
              "    <tr>\n",
              "      <th>10678</th>\n",
              "      <td>150</td>\n",
              "      <td>0</td>\n",
              "      <td>9</td>\n",
              "      <td>4</td>\n",
              "      <td>19</td>\n",
              "      <td>55</td>\n",
              "      <td>22</td>\n",
              "      <td>25</td>\n",
              "      <td>0</td>\n",
              "      <td>0</td>\n",
              "      <td>0</td>\n",
              "      <td>0</td>\n",
              "      <td>0</td>\n",
              "      <td>0</td>\n",
              "      <td>0</td>\n",
              "      <td>0</td>\n",
              "      <td>0</td>\n",
              "      <td>0</td>\n",
              "      <td>0</td>\n",
              "      <td>0</td>\n",
              "      <td>0</td>\n",
              "      <td>0</td>\n",
              "      <td>1</td>\n",
              "      <td>0</td>\n",
              "      <td>1</td>\n",
              "      <td>0</td>\n",
              "      <td>0</td>\n",
              "      <td>0</td>\n",
              "      <td>0</td>\n",
              "      <td>0</td>\n",
              "    </tr>\n",
              "    <tr>\n",
              "      <th>10679</th>\n",
              "      <td>155</td>\n",
              "      <td>0</td>\n",
              "      <td>4</td>\n",
              "      <td>27</td>\n",
              "      <td>20</td>\n",
              "      <td>45</td>\n",
              "      <td>23</td>\n",
              "      <td>20</td>\n",
              "      <td>1</td>\n",
              "      <td>0</td>\n",
              "      <td>0</td>\n",
              "      <td>0</td>\n",
              "      <td>0</td>\n",
              "      <td>0</td>\n",
              "      <td>0</td>\n",
              "      <td>0</td>\n",
              "      <td>0</td>\n",
              "      <td>0</td>\n",
              "      <td>0</td>\n",
              "      <td>0</td>\n",
              "      <td>0</td>\n",
              "      <td>0</td>\n",
              "      <td>1</td>\n",
              "      <td>0</td>\n",
              "      <td>1</td>\n",
              "      <td>0</td>\n",
              "      <td>0</td>\n",
              "      <td>0</td>\n",
              "      <td>0</td>\n",
              "      <td>0</td>\n",
              "    </tr>\n",
              "    <tr>\n",
              "      <th>10680</th>\n",
              "      <td>180</td>\n",
              "      <td>0</td>\n",
              "      <td>4</td>\n",
              "      <td>27</td>\n",
              "      <td>8</td>\n",
              "      <td>20</td>\n",
              "      <td>11</td>\n",
              "      <td>20</td>\n",
              "      <td>0</td>\n",
              "      <td>0</td>\n",
              "      <td>0</td>\n",
              "      <td>1</td>\n",
              "      <td>0</td>\n",
              "      <td>0</td>\n",
              "      <td>0</td>\n",
              "      <td>0</td>\n",
              "      <td>0</td>\n",
              "      <td>0</td>\n",
              "      <td>0</td>\n",
              "      <td>1</td>\n",
              "      <td>0</td>\n",
              "      <td>0</td>\n",
              "      <td>0</td>\n",
              "      <td>0</td>\n",
              "      <td>0</td>\n",
              "      <td>0</td>\n",
              "      <td>1</td>\n",
              "      <td>0</td>\n",
              "      <td>0</td>\n",
              "      <td>0</td>\n",
              "    </tr>\n",
              "    <tr>\n",
              "      <th>10681</th>\n",
              "      <td>160</td>\n",
              "      <td>0</td>\n",
              "      <td>1</td>\n",
              "      <td>3</td>\n",
              "      <td>11</td>\n",
              "      <td>30</td>\n",
              "      <td>14</td>\n",
              "      <td>10</td>\n",
              "      <td>0</td>\n",
              "      <td>0</td>\n",
              "      <td>0</td>\n",
              "      <td>0</td>\n",
              "      <td>0</td>\n",
              "      <td>0</td>\n",
              "      <td>0</td>\n",
              "      <td>0</td>\n",
              "      <td>0</td>\n",
              "      <td>1</td>\n",
              "      <td>0</td>\n",
              "      <td>1</td>\n",
              "      <td>0</td>\n",
              "      <td>0</td>\n",
              "      <td>0</td>\n",
              "      <td>0</td>\n",
              "      <td>0</td>\n",
              "      <td>0</td>\n",
              "      <td>0</td>\n",
              "      <td>0</td>\n",
              "      <td>0</td>\n",
              "      <td>1</td>\n",
              "    </tr>\n",
              "    <tr>\n",
              "      <th>10682</th>\n",
              "      <td>500</td>\n",
              "      <td>2</td>\n",
              "      <td>9</td>\n",
              "      <td>5</td>\n",
              "      <td>10</td>\n",
              "      <td>55</td>\n",
              "      <td>19</td>\n",
              "      <td>15</td>\n",
              "      <td>1</td>\n",
              "      <td>0</td>\n",
              "      <td>0</td>\n",
              "      <td>0</td>\n",
              "      <td>0</td>\n",
              "      <td>0</td>\n",
              "      <td>0</td>\n",
              "      <td>0</td>\n",
              "      <td>0</td>\n",
              "      <td>0</td>\n",
              "      <td>0</td>\n",
              "      <td>0</td>\n",
              "      <td>0</td>\n",
              "      <td>1</td>\n",
              "      <td>0</td>\n",
              "      <td>0</td>\n",
              "      <td>0</td>\n",
              "      <td>1</td>\n",
              "      <td>0</td>\n",
              "      <td>0</td>\n",
              "      <td>0</td>\n",
              "      <td>0</td>\n",
              "    </tr>\n",
              "  </tbody>\n",
              "</table>\n",
              "<p>10682 rows × 30 columns</p>\n",
              "</div>"
            ],
            "text/plain": [
              "       Duration  Total_Stops  ...  destination_Kolkata  destination_New Delhi\n",
              "0           170            0  ...                    0                      1\n",
              "1           445            2  ...                    0                      0\n",
              "2          1140            2  ...                    0                      0\n",
              "3           325            1  ...                    0                      0\n",
              "4           285            1  ...                    0                      1\n",
              "...         ...          ...  ...                  ...                    ...\n",
              "10678       150            0  ...                    0                      0\n",
              "10679       155            0  ...                    0                      0\n",
              "10680       180            0  ...                    0                      0\n",
              "10681       160            0  ...                    0                      1\n",
              "10682       500            2  ...                    0                      0\n",
              "\n",
              "[10682 rows x 30 columns]"
            ]
          },
          "metadata": {
            "tags": []
          },
          "execution_count": 88
        }
      ]
    },
    {
      "cell_type": "code",
      "metadata": {
        "id": "51o1QXNlIAU-",
        "colab_type": "code",
        "colab": {}
      },
      "source": [
        "features=np.array(features)\n",
        "price=np.array(price)"
      ],
      "execution_count": 89,
      "outputs": []
    },
    {
      "cell_type": "code",
      "metadata": {
        "id": "uQF3d6TRIRSv",
        "colab_type": "code",
        "colab": {}
      },
      "source": [
        "from sklearn.model_selection import train_test_split\n",
        "x_train,x_test,y_train,y_test=train_test_split(features,price,test_size=0.2,random_state=7)"
      ],
      "execution_count": 90,
      "outputs": []
    },
    {
      "cell_type": "markdown",
      "metadata": {
        "id": "gMAFqEozIsQn",
        "colab_type": "text"
      },
      "source": [
        "## Feature Engineering"
      ]
    },
    {
      "cell_type": "markdown",
      "metadata": {
        "id": "h538nECAI05R",
        "colab_type": "text"
      },
      "source": [
        "This is done using Extratreesregressor from sklearn.ensemble"
      ]
    },
    {
      "cell_type": "code",
      "metadata": {
        "id": "3Ua_1jWEIwMK",
        "colab_type": "code",
        "colab": {
          "base_uri": "https://localhost:8080/",
          "height": 134
        },
        "outputId": "86caf53b-dfb6-4b86-c84a-94d9ab4ed706"
      },
      "source": [
        "from sklearn.ensemble import ExtraTreesRegressor\n",
        "selection=ExtraTreesRegressor()\n",
        "selection.fit(x_train,y_train)"
      ],
      "execution_count": 91,
      "outputs": [
        {
          "output_type": "execute_result",
          "data": {
            "text/plain": [
              "ExtraTreesRegressor(bootstrap=False, ccp_alpha=0.0, criterion='mse',\n",
              "                    max_depth=None, max_features='auto', max_leaf_nodes=None,\n",
              "                    max_samples=None, min_impurity_decrease=0.0,\n",
              "                    min_impurity_split=None, min_samples_leaf=1,\n",
              "                    min_samples_split=2, min_weight_fraction_leaf=0.0,\n",
              "                    n_estimators=100, n_jobs=None, oob_score=False,\n",
              "                    random_state=None, verbose=0, warm_start=False)"
            ]
          },
          "metadata": {
            "tags": []
          },
          "execution_count": 91
        }
      ]
    },
    {
      "cell_type": "code",
      "metadata": {
        "id": "gt6SwIf2Iq1o",
        "colab_type": "code",
        "colab": {
          "base_uri": "https://localhost:8080/",
          "height": 151
        },
        "outputId": "e372dae4-9f91-4ebe-b387-fe1e6d88dfc0"
      },
      "source": [
        "print(selection.feature_importances_)"
      ],
      "execution_count": 92,
      "outputs": [
        {
          "output_type": "stream",
          "text": [
            "[1.19747958e-01 2.32156809e-01 8.88377811e-02 1.08307430e-01\n",
            " 3.05952187e-02 2.71019815e-02 3.27914978e-02 2.57361951e-02\n",
            " 1.07334849e-02 1.63340813e-03 1.40561099e-02 1.42665636e-01\n",
            " 6.58469229e-02 2.05251067e-02 8.92221712e-04 2.90736501e-03\n",
            " 0.00000000e+00 5.60554869e-03 1.40487208e-04 9.49127089e-03\n",
            " 5.32828314e-04 5.10768604e-03 2.50212181e-03 5.99201208e-03\n",
            " 2.48416869e-03 5.57250740e-03 1.37339307e-02 6.72319775e-03\n",
            " 5.50290336e-04 1.70288239e-02]\n"
          ],
          "name": "stdout"
        }
      ]
    },
    {
      "cell_type": "code",
      "metadata": {
        "id": "RO7ggzQrJbLp",
        "colab_type": "code",
        "colab": {
          "base_uri": "https://localhost:8080/",
          "height": 483
        },
        "outputId": "3e652ab1-176b-4a7d-cb5c-bfa71e963304"
      },
      "source": [
        "plt.figure(figsize = (12,8))\n",
        "feat_importances = pd.Series(selection.feature_importances_, index=data.columns)\n",
        "feat_importances.nlargest(20).plot(kind='barh')\n",
        "plt.show()\n"
      ],
      "execution_count": 103,
      "outputs": [
        {
          "output_type": "display_data",
          "data": {
            "image/png": "[encoded data removed]",
            "text/plain": [
              "<Figure size 864x576 with 1 Axes>"
            ]
          },
          "metadata": {
            "tags": [],
            "needs_background": "light"
          }
        }
      ]
    },
    {
      "cell_type": "markdown",
      "metadata": {
        "id": "4Qp5mJjDLhhA",
        "colab_type": "text"
      },
      "source": [
        "## Model Training"
      ]
    },
    {
      "cell_type": "code",
      "metadata": {
        "id": "kBg2YUOAKHAc",
        "colab_type": "code",
        "colab": {}
      },
      "source": [
        "from sklearn.ensemble import RandomForestRegressor"
      ],
      "execution_count": 105,
      "outputs": []
    },
    {
      "cell_type": "code",
      "metadata": {
        "id": "6sUs3E7YL4hO",
        "colab_type": "code",
        "colab": {}
      },
      "source": [
        "model=RandomForestRegressor()"
      ],
      "execution_count": 176,
      "outputs": []
    },
    {
      "cell_type": "code",
      "metadata": {
        "id": "-od_sFUMMAGe",
        "colab_type": "code",
        "colab": {
          "base_uri": "https://localhost:8080/",
          "height": 134
        },
        "outputId": "3d723745-339a-4aac-ffef-b223b36e24ee"
      },
      "source": [
        "model.fit(x_train,y_train)"
      ],
      "execution_count": 177,
      "outputs": [
        {
          "output_type": "execute_result",
          "data": {
            "text/plain": [
              "RandomForestRegressor(bootstrap=True, ccp_alpha=0.0, criterion='mse',\n",
              "                      max_depth=None, max_features='auto', max_leaf_nodes=None,\n",
              "                      max_samples=None, min_impurity_decrease=0.0,\n",
              "                      min_impurity_split=None, min_samples_leaf=1,\n",
              "                      min_samples_split=2, min_weight_fraction_leaf=0.0,\n",
              "                      n_estimators=100, n_jobs=None, oob_score=False,\n",
              "                      random_state=None, verbose=0, warm_start=False)"
            ]
          },
          "metadata": {
            "tags": []
          },
          "execution_count": 177
        }
      ]
    },
    {
      "cell_type": "code",
      "metadata": {
        "id": "LW4Rry3BMCrM",
        "colab_type": "code",
        "colab": {}
      },
      "source": [
        "y_pred=model.predict(x_test)"
      ],
      "execution_count": 178,
      "outputs": []
    },
    {
      "cell_type": "code",
      "metadata": {
        "id": "HWfHETn1MHmW",
        "colab_type": "code",
        "colab": {
          "base_uri": "https://localhost:8080/",
          "height": 50
        },
        "outputId": "ed32eabf-22fb-40de-aa45-fc640769b372"
      },
      "source": [
        "y_pred"
      ],
      "execution_count": 179,
      "outputs": [
        {
          "output_type": "execute_result",
          "data": {
            "text/plain": [
              "array([14223.26283333,  3944.24      , 10468.8025    , ...,\n",
              "        7071.02      , 13931.86833333, 15160.5       ])"
            ]
          },
          "metadata": {
            "tags": []
          },
          "execution_count": 179
        }
      ]
    },
    {
      "cell_type": "code",
      "metadata": {
        "id": "WJY1dTJkMJ6U",
        "colab_type": "code",
        "colab": {
          "base_uri": "https://localhost:8080/",
          "height": 282
        },
        "outputId": "87d57734-ffa5-493a-a447-833f0fa31c55"
      },
      "source": [
        "sns.distplot(y_pred-y_test)"
      ],
      "execution_count": 180,
      "outputs": [
        {
          "output_type": "execute_result",
          "data": {
            "text/plain": [
              "<matplotlib.axes._subplots.AxesSubplot at 0x7fd27f81b630>"
            ]
          },
          "metadata": {
            "tags": []
          },
          "execution_count": 180
        },
        {
          "output_type": "display_data",
          "data": {
            "image/png": "[encoded data removed]",
            "text/plain": [
              "<Figure size 432x288 with 1 Axes>"
            ]
          },
          "metadata": {
            "tags": [],
            "needs_background": "light"
          }
        }
      ]
    },
    {
      "cell_type": "code",
      "metadata": {
        "id": "oLi0pHnXMXBR",
        "colab_type": "code",
        "colab": {
          "base_uri": "https://localhost:8080/",
          "height": 34
        },
        "outputId": "37a3fc39-fc88-455e-f6f3-0ea9697fa6a3"
      },
      "source": [
        "model.score(x_train,y_train)"
      ],
      "execution_count": 181,
      "outputs": [
        {
          "output_type": "execute_result",
          "data": {
            "text/plain": [
              "0.951777831573606"
            ]
          },
          "metadata": {
            "tags": []
          },
          "execution_count": 181
        }
      ]
    },
    {
      "cell_type": "code",
      "metadata": {
        "id": "YBu8PmesMq2P",
        "colab_type": "code",
        "colab": {
          "base_uri": "https://localhost:8080/",
          "height": 34
        },
        "outputId": "b6532592-2378-47f9-d378-5aeb2d9f41aa"
      },
      "source": [
        "model.score(x_test,y_test)"
      ],
      "execution_count": 182,
      "outputs": [
        {
          "output_type": "execute_result",
          "data": {
            "text/plain": [
              "0.8137483280093512"
            ]
          },
          "metadata": {
            "tags": []
          },
          "execution_count": 182
        }
      ]
    },
    {
      "cell_type": "code",
      "metadata": {
        "id": "tX9waYOXMufw",
        "colab_type": "code",
        "colab": {}
      },
      "source": [
        "import sklearn.metrics as m"
      ],
      "execution_count": 183,
      "outputs": []
    },
    {
      "cell_type": "code",
      "metadata": {
        "id": "-BXd7wFqNcUz",
        "colab_type": "code",
        "colab": {
          "base_uri": "https://localhost:8080/",
          "height": 34
        },
        "outputId": "c2635276-28fa-4331-da9d-4b8f0ad2f546"
      },
      "source": [
        "m.mean_absolute_error(y_test,y_pred)"
      ],
      "execution_count": 184,
      "outputs": [
        {
          "output_type": "execute_result",
          "data": {
            "text/plain": [
              "1188.1753137338019"
            ]
          },
          "metadata": {
            "tags": []
          },
          "execution_count": 184
        }
      ]
    },
    {
      "cell_type": "code",
      "metadata": {
        "id": "pYpnCdqzNlWP",
        "colab_type": "code",
        "colab": {
          "base_uri": "https://localhost:8080/",
          "height": 34
        },
        "outputId": "754e10db-597a-47d9-9b6b-4ac662ca4b8a"
      },
      "source": [
        "np.sqrt(m.mean_squared_error(y_test,y_pred))"
      ],
      "execution_count": 185,
      "outputs": [
        {
          "output_type": "execute_result",
          "data": {
            "text/plain": [
              "1938.3189909502541"
            ]
          },
          "metadata": {
            "tags": []
          },
          "execution_count": 185
        }
      ]
    },
    {
      "cell_type": "code",
      "metadata": {
        "id": "5Rf4U5r8NswZ",
        "colab_type": "code",
        "colab": {}
      },
      "source": [
        "from xgboost import XGBRegressor"
      ],
      "execution_count": 186,
      "outputs": []
    },
    {
      "cell_type": "code",
      "metadata": {
        "id": "p57mKA3JN-4i",
        "colab_type": "code",
        "colab": {}
      },
      "source": [
        "xgbooster=XGBRegressor(max_depth=12)"
      ],
      "execution_count": 187,
      "outputs": []
    },
    {
      "cell_type": "code",
      "metadata": {
        "id": "mtzGeayyOEaS",
        "colab_type": "code",
        "colab": {
          "base_uri": "https://localhost:8080/",
          "height": 151
        },
        "outputId": "290e7aaa-4dc5-479e-c479-eb0d036bd46b"
      },
      "source": [
        "xgbooster.fit(x_train,y_train)"
      ],
      "execution_count": 188,
      "outputs": [
        {
          "output_type": "stream",
          "text": [
            "[18:28:52] WARNING: /workspace/src/objective/regression_obj.cu:152: reg:linear is now deprecated in favor of reg:squarederror.\n"
          ],
          "name": "stdout"
        },
        {
          "output_type": "execute_result",
          "data": {
            "text/plain": [
              "XGBRegressor(base_score=0.5, booster='gbtree', colsample_bylevel=1,\n",
              "             colsample_bynode=1, colsample_bytree=1, gamma=0,\n",
              "             importance_type='gain', learning_rate=0.1, max_delta_step=0,\n",
              "             max_depth=12, min_child_weight=1, missing=None, n_estimators=100,\n",
              "             n_jobs=1, nthread=None, objective='reg:linear', random_state=0,\n",
              "             reg_alpha=0, reg_lambda=1, scale_pos_weight=1, seed=None,\n",
              "             silent=None, subsample=1, verbosity=1)"
            ]
          },
          "metadata": {
            "tags": []
          },
          "execution_count": 188
        }
      ]
    },
    {
      "cell_type": "code",
      "metadata": {
        "id": "DCjNFuqbOHSv",
        "colab_type": "code",
        "colab": {}
      },
      "source": [
        "y_pred=xgbooster.predict(x_test)"
      ],
      "execution_count": 189,
      "outputs": []
    },
    {
      "cell_type": "code",
      "metadata": {
        "id": "83RGYGX0OM6Z",
        "colab_type": "code",
        "colab": {
          "base_uri": "https://localhost:8080/",
          "height": 50
        },
        "outputId": "59d21a80-b450-4f10-b752-146221a7967d"
      },
      "source": [
        "y_pred"
      ],
      "execution_count": 190,
      "outputs": [
        {
          "output_type": "execute_result",
          "data": {
            "text/plain": [
              "array([14235.586 ,  3970.4255, 10422.824 , ...,  6383.347 , 12639.763 ,\n",
              "       15226.311 ], dtype=float32)"
            ]
          },
          "metadata": {
            "tags": []
          },
          "execution_count": 190
        }
      ]
    },
    {
      "cell_type": "code",
      "metadata": {
        "colab_type": "code",
        "id": "cUnyOuNkOVQN",
        "colab": {
          "base_uri": "https://localhost:8080/",
          "height": 34
        },
        "outputId": "2f85b2dc-b912-4377-e0f3-3a7039be7ce0"
      },
      "source": [
        "xgbooster.score(x_train,y_train)"
      ],
      "execution_count": 191,
      "outputs": [
        {
          "output_type": "execute_result",
          "data": {
            "text/plain": [
              "0.9625273148353176"
            ]
          },
          "metadata": {
            "tags": []
          },
          "execution_count": 191
        }
      ]
    },
    {
      "cell_type": "code",
      "metadata": {
        "colab_type": "code",
        "id": "bef8A3ioOVQi",
        "colab": {
          "base_uri": "https://localhost:8080/",
          "height": 34
        },
        "outputId": "377791e0-7fbb-4f73-fb18-56f9ee5fdee0"
      },
      "source": [
        "xgbooster.score(x_test,y_test)"
      ],
      "execution_count": 192,
      "outputs": [
        {
          "output_type": "execute_result",
          "data": {
            "text/plain": [
              "0.8047574719974309"
            ]
          },
          "metadata": {
            "tags": []
          },
          "execution_count": 192
        }
      ]
    },
    {
      "cell_type": "code",
      "metadata": {
        "colab_type": "code",
        "id": "hrFUwftjOVQv",
        "colab": {}
      },
      "source": [
        "import sklearn.metrics as m"
      ],
      "execution_count": 193,
      "outputs": []
    },
    {
      "cell_type": "code",
      "metadata": {
        "colab_type": "code",
        "id": "LUZzjGEQOVQ5",
        "colab": {
          "base_uri": "https://localhost:8080/",
          "height": 34
        },
        "outputId": "4297759a-93b5-4612-c443-882c8ff9e8f2"
      },
      "source": [
        "m.mean_absolute_error(y_test,y_pred)"
      ],
      "execution_count": 194,
      "outputs": [
        {
          "output_type": "execute_result",
          "data": {
            "text/plain": [
              "1160.662990886026"
            ]
          },
          "metadata": {
            "tags": []
          },
          "execution_count": 194
        }
      ]
    },
    {
      "cell_type": "code",
      "metadata": {
        "colab_type": "code",
        "id": "IhNZxVm5OVRC",
        "colab": {
          "base_uri": "https://localhost:8080/",
          "height": 34
        },
        "outputId": "1ea68b5a-2488-4d5e-b762-5aaede4cbf07"
      },
      "source": [
        "np.sqrt(m.mean_squared_error(y_test,y_pred))"
      ],
      "execution_count": 195,
      "outputs": [
        {
          "output_type": "execute_result",
          "data": {
            "text/plain": [
              "1984.5514926453282"
            ]
          },
          "metadata": {
            "tags": []
          },
          "execution_count": 195
        }
      ]
    },
    {
      "cell_type": "code",
      "metadata": {
        "id": "8HWMli7kOdCC",
        "colab_type": "code",
        "colab": {}
      },
      "source": [
        "import pickle\n",
        "pickle.dump(model,open('model.pkl','wb+'))"
      ],
      "execution_count": 196,
      "outputs": []
    },
    {
      "cell_type": "code",
      "metadata": {
        "id": "PeMp60FnPb5T",
        "colab_type": "code",
        "colab": {}
      },
      "source": [
        ""
      ],
      "execution_count": null,
      "outputs": []
    }
  ]
}